{
 "cells": [
  {
   "cell_type": "markdown",
   "id": "8fb8705a-1ef3-4c86-b0af-7d5ffba7dfa7",
   "metadata": {},
   "source": [
    "# Olist Customer Segmentation Analysis (2017)\n",
    "\n",
    "## Project Overview\n",
    "This project presents a comprehensive analysis of Olist's customer base for the year 2017.\n",
    "The goal is to better understand customer purchasing behavior to inform and improve the company's strategic decisions.\n",
    "\n",
    "The analysis explores:\n",
    "- When customers shop (seasonal patterns, weekends)\n",
    "- What they buy (product categories and quantities)\n",
    "- Where they are located (geographic distribution)\n",
    "- How they pay (payment methods and voucher usage)\n",
    "- Customer satisfaction\n",
    "- RFM & CLV\n"
   ]
  },
  {
   "cell_type": "markdown",
   "id": "57330c7b-cf88-48b3-a583-0a9b2b8fb127",
   "metadata": {},
   "source": [
    "## 1. Import Libraries & Load Data"
   ]
  },
  {
   "cell_type": "code",
   "execution_count": 1,
   "id": "7116b40f-dc42-49b3-804d-c2c6ecaf4678",
   "metadata": {},
   "outputs": [],
   "source": [
    "import pandas as pd\n",
    "import numpy as np\n",
    "import matplotlib.pyplot as plt\n",
    "import seaborn as sns"
   ]
  },
  {
   "cell_type": "code",
   "execution_count": 2,
   "id": "75f0a389-7268-49ad-a180-f53e5104df1d",
   "metadata": {},
   "outputs": [],
   "source": [
    "customers_df = pd.read_csv('olist_customers_dataset.csv')\n",
    "geolocation_df = pd.read_csv('olist_geolocation_dataset.csv')\n",
    "orders_df = pd.read_csv('olist_orders_dataset.csv')\n",
    "order_items_df = pd.read_csv('olist_order_items_dataset.csv')\n",
    "order_payments_df = pd.read_csv('olist_order_payments_dataset.csv')\n",
    "order_reviews_df = pd.read_csv('olist_order_reviews_dataset.csv')\n",
    "products_df = pd.read_csv('olist_products_dataset.csv')\n",
    "sellers_df = pd.read_csv('olist_sellers_dataset.csv')\n",
    "translation_df = pd.read_csv('product_category_name_translation.csv')"
   ]
  },
  {
   "cell_type": "markdown",
   "id": "d3f92bff-8d18-484a-90f3-8e04544efe88",
   "metadata": {},
   "source": [
    "## 2. Data Cleaning & Prepration\n"
   ]
  },
  {
   "cell_type": "markdown",
   "id": "a79d138d-dce9-4b4a-b275-258e93f6d5a2",
   "metadata": {},
   "source": [
    "### 2.1 Checking for Missing Values\n"
   ]
  },
  {
   "cell_type": "code",
   "execution_count": 3,
   "id": "353d353f-161c-48de-8792-7c02984ff762",
   "metadata": {},
   "outputs": [
    {
     "name": "stdout",
     "output_type": "stream",
     "text": [
      "--- Missing values in customers_df ---\n",
      "No missing values found.\n",
      "\n",
      "\n",
      "--- Missing values in geolocation_df ---\n",
      "No missing values found.\n",
      "\n",
      "\n",
      "--- Missing values in orders_df ---\n",
      "order_approved_at                 160\n",
      "order_delivered_carrier_date     1783\n",
      "order_delivered_customer_date    2965\n",
      "dtype: int64\n",
      "\n",
      "\n",
      "--- Missing values in order_items_df ---\n",
      "No missing values found.\n",
      "\n",
      "\n",
      "--- Missing values in order_payments_df ---\n",
      "No missing values found.\n",
      "\n",
      "\n",
      "--- Missing values in order_reviews_df ---\n",
      "review_comment_title      87656\n",
      "review_comment_message    58247\n",
      "dtype: int64\n",
      "\n",
      "\n",
      "--- Missing values in products_df ---\n",
      "product_category_name         610\n",
      "product_name_lenght           610\n",
      "product_description_lenght    610\n",
      "product_photos_qty            610\n",
      "product_weight_g                2\n",
      "product_length_cm               2\n",
      "product_height_cm               2\n",
      "product_width_cm                2\n",
      "dtype: int64\n",
      "\n",
      "\n",
      "--- Missing values in sellers_df ---\n",
      "No missing values found.\n",
      "\n",
      "\n",
      "--- Missing values in translation_df ---\n",
      "No missing values found.\n",
      "\n",
      "\n"
     ]
    }
   ],
   "source": [
    "dataframes = {\n",
    "    'customers_df': customers_df,\n",
    "    'geolocation_df': geolocation_df,\n",
    "    'orders_df': orders_df,\n",
    "    'order_items_df': order_items_df,\n",
    "    'order_payments_df': order_payments_df,\n",
    "    'order_reviews_df': order_reviews_df,\n",
    "    'products_df': products_df,\n",
    "    'sellers_df': sellers_df,\n",
    "    'translation_df': translation_df\n",
    "}\n",
    "\n",
    "for name, df in dataframes.items():\n",
    "    print(f\"--- Missing values in {name} ---\")\n",
    "    missing_values = df.isnull().sum()\n",
    "    missing_columns = missing_values[missing_values > 0]\n",
    "    \n",
    "    if not missing_columns.empty:\n",
    "        print(missing_columns)\n",
    "    else:\n",
    "        print(\"No missing values found.\")\n",
    "    print(\"\\n\")\n"
   ]
  },
  {
   "cell_type": "markdown",
   "id": "f906f152-c763-4a52-a772-799b56032214",
   "metadata": {},
   "source": [
    "##### Note: Some columns show \"missing values\" such as:\n",
    "- order_approved_at\n",
    "- order_delivered_carrier_date\n",
    "- order_delivered_customer_date\n",
    "These are NOT true missing values.They correspond to orders that were never shipped or not completed (\"non-shipped orders\")."
   ]
  },
  {
   "cell_type": "markdown",
   "id": "aeaaf7d3-7b2b-4bfc-865f-2313d1d72f68",
   "metadata": {},
   "source": [
    "### 2.2  Handling missing values"
   ]
  },
  {
   "cell_type": "code",
   "execution_count": 4,
   "id": "c7e07320-29ce-4872-8666-e6190ed0e428",
   "metadata": {},
   "outputs": [],
   "source": [
    "products_df['product_category_name'] = products_df['product_category_name'].fillna('not categorized')"
   ]
  },
  {
   "cell_type": "code",
   "execution_count": 5,
   "id": "b4536f33-f199-45e0-b9a5-83a14ff37091",
   "metadata": {},
   "outputs": [
    {
     "name": "stdout",
     "output_type": "stream",
     "text": [
      "Number of 'not categorized' products: 610\n"
     ]
    }
   ],
   "source": [
    "not_categorized_count = products_df['product_category_name'].value_counts().get('not categorized', 0)\n",
    "print(\"Number of 'not categorized' products:\", not_categorized_count)"
   ]
  },
  {
   "cell_type": "markdown",
   "id": "7bd9b729-f64d-46a8-bb7d-6c6cbf7ba752",
   "metadata": {},
   "source": [
    "### 2.3 Merge Products with Category Translations"
   ]
  },
  {
   "cell_type": "code",
   "execution_count": 6,
   "id": "d0244796-b775-4714-8fdd-28e81446faca",
   "metadata": {},
   "outputs": [
    {
     "name": "stdout",
     "output_type": "stream",
     "text": [
      "                         product_id  product_category_name  \\\n",
      "0  1e9e8ef04dbcff4541ed26657ea517e5             perfumaria   \n",
      "1  3aa071139cb16b67ca9e5dea641aaa2f                  artes   \n",
      "2  96bd76ec8810374ed1b65e291975717f          esporte_lazer   \n",
      "3  cef67bcfe19066a932b7673e239eb23d                  bebes   \n",
      "4  9dc1a7de274444849c219cff195d0b71  utilidades_domesticas   \n",
      "\n",
      "   product_name_lenght  product_description_lenght  product_photos_qty  \\\n",
      "0                 40.0                       287.0                 1.0   \n",
      "1                 44.0                       276.0                 1.0   \n",
      "2                 46.0                       250.0                 1.0   \n",
      "3                 27.0                       261.0                 1.0   \n",
      "4                 37.0                       402.0                 4.0   \n",
      "\n",
      "   product_weight_g  product_length_cm  product_height_cm  product_width_cm  \\\n",
      "0             225.0               16.0               10.0              14.0   \n",
      "1            1000.0               30.0               18.0              20.0   \n",
      "2             154.0               18.0                9.0              15.0   \n",
      "3             371.0               26.0                4.0              26.0   \n",
      "4             625.0               20.0               17.0              13.0   \n",
      "\n",
      "  product_category_name_english  \n",
      "0                     perfumery  \n",
      "1                           art  \n",
      "2                sports_leisure  \n",
      "3                          baby  \n",
      "4                    housewares  \n"
     ]
    }
   ],
   "source": [
    "products = pd.read_csv(\"olist_products_dataset.csv\")\n",
    "translations = pd.read_csv(\"product_category_name_translation.csv\")\n",
    "products['product_category_name'] = products['product_category_name'].fillna('not categorized')\n",
    "products['product_category_name'] = products['product_category_name'].str.strip()\n",
    "products_merged = products.merge(\n",
    "    translations,\n",
    "    on='product_category_name',\n",
    "    how='left'\n",
    ")\n",
    "products_merged['product_category_name_english'] = products_merged['product_category_name_english'].fillna('NN')\n",
    "print(products_merged.head())"
   ]
  },
  {
   "cell_type": "markdown",
   "id": "46d1845d-c0ea-42e6-bbc0-f521d841ad48",
   "metadata": {},
   "source": [
    "##### Identify products still without English translation"
   ]
  },
  {
   "cell_type": "code",
   "execution_count": 7,
   "id": "94c2ec03-1638-4363-ab51-b5beaa6e8df8",
   "metadata": {},
   "outputs": [
    {
     "name": "stdout",
     "output_type": "stream",
     "text": [
      "Number of products still without translation: 623\n",
      "Unique original categories still missing translation:\n",
      "['not categorized' 'pc_gamer'\n",
      " 'portateis_cozinha_e_preparadores_de_alimentos']\n"
     ]
    }
   ],
   "source": [
    "missing_translations = products_merged[products_merged['product_category_name_english'] == 'NN']\n",
    "\n",
    "print(\"Number of products still without translation:\", len(missing_translations))\n",
    "print(\"Unique original categories still missing translation:\")\n",
    "print(missing_translations['product_category_name'].unique())"
   ]
  },
  {
   "cell_type": "markdown",
   "id": "35e79f2e-f7cf-42c0-a079-6f824e646936",
   "metadata": {},
   "source": [
    "##### Standardize and Manually Correct Translations"
   ]
  },
  {
   "cell_type": "code",
   "execution_count": 8,
   "id": "f4a79c70-62bf-4160-ab93-a8af71fe1b24",
   "metadata": {},
   "outputs": [],
   "source": [
    "# Normalize the column: strip spaces, lowercase\n",
    "products_merged['product_category_name'] = products_merged['product_category_name'].str.strip().str.lower()\n"
   ]
  },
  {
   "cell_type": "code",
   "execution_count": 9,
   "id": "aafbab3c-ab49-4bba-971a-ac181925190c",
   "metadata": {},
   "outputs": [],
   "source": [
    "manual_translations = {\n",
    "    'not categorized': 'unknown',\n",
    "    'pc_gamer': 'Gaming PC',\n",
    "    'portateis_cozinha_e_preparadores_de_alimentos': 'Portable Kitchen Appliances & Food Processors'\n",
    "}\n"
   ]
  },
  {
   "cell_type": "code",
   "execution_count": 10,
   "id": "90dbcd6d-bb97-4712-926b-3cc555691fe1",
   "metadata": {},
   "outputs": [],
   "source": [
    "products_merged['product_category_name_english'] = products_merged['product_category_name_english'].replace(manual_translations)\n"
   ]
  },
  {
   "cell_type": "code",
   "execution_count": 11,
   "id": "2fdb32fe-2207-4740-a3a9-21819f1e8aac",
   "metadata": {},
   "outputs": [
    {
     "name": "stdout",
     "output_type": "stream",
     "text": [
      "Number of products still without translation: 623\n"
     ]
    }
   ],
   "source": [
    "missing_after = products_merged[products_merged['product_category_name_english'] == 'NN']\n",
    "print(\"Number of products still without translation:\", len(missing_after))\n"
   ]
  },
  {
   "cell_type": "code",
   "execution_count": 12,
   "id": "5f77ba7e-73aa-43df-8008-bfebfc6d3502",
   "metadata": {},
   "outputs": [
    {
     "name": "stdout",
     "output_type": "stream",
     "text": [
      "Number of products still without translation: 0\n"
     ]
    }
   ],
   "source": [
    "products_merged['product_category_name'] = products_merged['product_category_name'].str.strip().str.lower()\n",
    "\n",
    "manual_translations = {\n",
    "    'not categorized': 'unknown',\n",
    "    'pc_gamer': 'Gaming PC',\n",
    "    'portateis_cozinha_e_preparadores_de_alimentos': 'Portable Kitchen Appliances & Food Processors'\n",
    "}\n",
    "\n",
    "products_merged['product_category_name_english'] = products_merged['product_category_name'].replace(manual_translations)\n",
    "products_merged['product_category_name_english'] = products_merged['product_category_name_english'].fillna('NN')\n",
    "\n",
    "missing_after = products_merged[products_merged['product_category_name_english'] == 'NN']\n",
    "print(\"Number of products still without translation:\", len(missing_after))\n"
   ]
  },
  {
   "cell_type": "code",
   "execution_count": 13,
   "id": "00144f23-4667-49d3-b0bc-409ad17eb7fb",
   "metadata": {},
   "outputs": [
    {
     "name": "stdout",
     "output_type": "stream",
     "text": [
      "Number of products without a group: 0\n",
      "Unique categories without a group: []\n"
     ]
    }
   ],
   "source": [
    "products = pd.read_csv(\"olist_products_dataset.csv\")\n",
    "translations = pd.read_csv(\"product_category_name_translation.csv\")\n",
    "\n",
    "products['product_category_name'] = products['product_category_name'].fillna('not categorized')\n",
    "products['product_category_name'] = products['product_category_name'].str.strip().str.lower()\n",
    "\n",
    "manual_translations = {\n",
    "    'not categorized': 'unknown',\n",
    "    'pc_gamer': 'Gaming PC',\n",
    "    'portateis_cozinha_e_preparadores_de_alimentos': 'Portable Kitchen Appliances & Food Processors'\n",
    "}\n",
    "\n",
    "products_merged = products.merge(\n",
    "    translations,\n",
    "    on='product_category_name',\n",
    "    how='left'\n",
    ")\n",
    "\n",
    "products_merged['product_category_name_english'] = products_merged['product_category_name'].map(manual_translations)\\\n",
    "    .combine_first(products_merged['product_category_name_english'])\\\n",
    "    .fillna('unknown')\n",
    "\n",
    "products_merged['product_category_name_english'] = products_merged['product_category_name_english'].str.strip()\n",
    "\n",
    "category_groups = {\n",
    "    'computers_accessories': 'Electronics & Technology',\n",
    "    'computers': 'Electronics & Technology',\n",
    "    'telephony': 'Electronics & Technology',\n",
    "    'fixed_telephony': 'Electronics & Technology',\n",
    "    'consoles_games': 'Electronics & Technology',\n",
    "    'audio': 'Electronics & Technology',\n",
    "    'electronics': 'Electronics & Technology',\n",
    "    'Gaming PC': 'Electronics & Technology',\n",
    "    'tablets_printing_image': 'Electronics & Technology',\n",
    "    \n",
    "    'bed_bath_table': 'Home & Furniture',\n",
    "    'furniture_decor': 'Home & Furniture',\n",
    "    'housewares': 'Home & Furniture',\n",
    "    'kitchen_dining_laundry_garden_furniture': 'Home & Furniture',\n",
    "    'home_appliances': 'Home & Furniture',\n",
    "    'home_appliances_2': 'Home & Furniture',\n",
    "    'home_confort': 'Home & Furniture',\n",
    "    'home_comfort_2': 'Home & Furniture',\n",
    "    'small_appliances': 'Home & Furniture',\n",
    "    'small_appliances_home_oven_and_coffee': 'Home & Furniture',\n",
    "    'furniture_living_room': 'Home & Furniture',\n",
    "    'furniture_bedroom': 'Home & Furniture',\n",
    "    'furniture_mattress_and_upholstery': 'Home & Furniture',\n",
    "    'air_conditioning': 'Home & Furniture',\n",
    "    'office_furniture': 'Home & Furniture',\n",
    "    'Portable Kitchen Appliances & Food Processors': 'Home & Furniture',\n",
    "    'construction_tools_construction': 'Home & Furniture',\n",
    "    'costruction_tools_garden': 'Home & Furniture',\n",
    "    'costruction_tools_tools': 'Home & Furniture',\n",
    "    'construction_tools_lights': 'Home & Furniture',\n",
    "    'construction_tools_safety': 'Home & Furniture',\n",
    "    'home_construction': 'Home & Furniture',\n",
    "    \n",
    "    'fashion_bags_accessories': 'Fashion & Accessories',\n",
    "    'fashion_shoes': 'Fashion & Accessories',\n",
    "    'fashion_male_clothing': 'Fashion & Accessories',\n",
    "    'fashio_female_clothing': 'Fashion & Accessories',\n",
    "    'fashion_underwear_beach': 'Fashion & Accessories',\n",
    "    'fashion_sport': 'Fashion & Accessories',\n",
    "    'fashion_childrens_clothes': 'Fashion & Accessories',\n",
    "    'watches_gifts': 'Fashion & Accessories',\n",
    "    'luggage_accessories': 'Fashion & Accessories',\n",
    "    'christmas_supplies': 'Fashion & Accessories',\n",
    "    \n",
    "    'food_drink': 'Food & Drink',\n",
    "    'food': 'Food & Drink',\n",
    "    'drinks': 'Food & Drink',\n",
    "    'la_cuisine': 'Food & Drink',\n",
    "    \n",
    "    'health_beauty': 'Health & Beauty',\n",
    "    'perfumery': 'Health & Beauty',\n",
    "    'baby': 'Health & Beauty',\n",
    "    'diapers_and_hygiene': 'Health & Beauty',\n",
    "    'agro_industry_and_commerce': 'Health & Beauty',\n",
    "    \n",
    "    'books_technical': 'Books, Music, Movies & Arts',\n",
    "    'books_imported': 'Books, Music, Movies & Arts',\n",
    "    'books_general_interest': 'Books, Music, Movies & Arts',\n",
    "    'cds_dvds_musicals': 'Books, Music, Movies & Arts',\n",
    "    'dvds_blu_ray': 'Books, Music, Movies & Arts',\n",
    "    'music': 'Books, Music, Movies & Arts',\n",
    "    'cine_photo': 'Books, Music, Movies & Arts',\n",
    "    'art': 'Books, Music, Movies & Arts',\n",
    "    'musical_instruments': 'Books, Music, Movies & Arts',\n",
    "    'arts_and_craftmanship': 'Books, Music, Movies & Arts',\n",
    "    \n",
    "    'sports_leisure': 'Sports, Leisure & Outdoors',\n",
    "    'garden_tools': 'Sports, Leisure & Outdoors',\n",
    "    'pet_shop': 'Sports, Leisure & Outdoors',\n",
    "    'flowers': 'Sports, Leisure & Outdoors',\n",
    "    'signaling_and_security': 'Sports, Leisure & Outdoors',\n",
    "    'toys': 'Sports, Leisure & Outdoors',\n",
    "    \n",
    "    'stationery': 'Stationery & Party Supplies',\n",
    "    'party_supplies': 'Stationery & Party Supplies',\n",
    "    'cool_stuff': 'Stationery & Party Supplies',\n",
    "    \n",
    "    'auto': 'Automotive & Industrial',\n",
    "    'industry_commerce_and_business': 'Automotive & Industrial',\n",
    "    'security_and_services': 'Automotive & Industrial',\n",
    "    \n",
    "    'market_place': 'Marketplace & Unknown',\n",
    "    'unknown': 'Marketplace & Unknown',\n",
    "    'not categorized': 'Marketplace & Unknown'\n",
    "}\n",
    "\n",
    "products_merged['category_group'] = products_merged['product_category_name_english'].map(category_groups)\n",
    "\n",
    "missing_group = products_merged[products_merged['category_group'].isna()]\n",
    "print(\"Number of products without a group:\", len(missing_group))\n",
    "print(\"Unique categories without a group:\", missing_group['product_category_name_english'].unique())\n"
   ]
  },
  {
   "cell_type": "markdown",
   "id": "3322c271-08c7-4a9b-b385-d341355ae357",
   "metadata": {},
   "source": [
    "##### Merge Orders with Customer Data"
   ]
  },
  {
   "cell_type": "code",
   "execution_count": 14,
   "id": "52b3f011-add8-4fe4-ae98-a906c2b7895b",
   "metadata": {},
   "outputs": [
    {
     "name": "stdout",
     "output_type": "stream",
     "text": [
      "                           order_id                       customer_id  \\\n",
      "0  e481f51cbdc54678b7cc49136f2d6af7  9ef432eb6251297304e76186b10a928d   \n",
      "1  53cdb2fc8bc7dce0b6741e2150273451  b0830fb4747a6c6d20dea0b8c802d7ef   \n",
      "2  47770eb9100c2d0c44946d9cf07ec65d  41ce2a54c0b03bf3443c3d931a367089   \n",
      "3  949d5b44dbf5de918fe9c16f97b45f8a  f88197465ea7920adcdbec7375364d82   \n",
      "4  ad21c59c0840e6cb83a9ceb5573f8159  8ab97904e6daea8866dbdbc4fb7aad2c   \n",
      "\n",
      "  order_status order_purchase_timestamp    order_approved_at  \\\n",
      "0    delivered      2017-10-02 10:56:33  2017-10-02 11:07:15   \n",
      "1    delivered      2018-07-24 20:41:37  2018-07-26 03:24:27   \n",
      "2    delivered      2018-08-08 08:38:49  2018-08-08 08:55:23   \n",
      "3    delivered      2017-11-18 19:28:06  2017-11-18 19:45:59   \n",
      "4    delivered      2018-02-13 21:18:39  2018-02-13 22:20:29   \n",
      "\n",
      "  order_delivered_carrier_date order_delivered_customer_date  \\\n",
      "0          2017-10-04 19:55:00           2017-10-10 21:25:13   \n",
      "1          2018-07-26 14:31:00           2018-08-07 15:27:45   \n",
      "2          2018-08-08 13:50:00           2018-08-17 18:06:29   \n",
      "3          2017-11-22 13:39:59           2017-12-02 00:28:42   \n",
      "4          2018-02-14 19:46:34           2018-02-16 18:17:02   \n",
      "\n",
      "  order_estimated_delivery_date                customer_unique_id  \\\n",
      "0           2017-10-18 00:00:00  7c396fd4830fd04220f754e42b4e5bff   \n",
      "1           2018-08-13 00:00:00  af07308b275d755c9edb36a90c618231   \n",
      "2           2018-09-04 00:00:00  3a653a41f6f9fc3d2a113cf8398680e8   \n",
      "3           2017-12-15 00:00:00  7c142cf63193a1473d2e66489a9ae977   \n",
      "4           2018-02-26 00:00:00  72632f0f9dd73dfee390c9b22eb56dd6   \n",
      "\n",
      "   customer_zip_code_prefix            customer_city customer_state  \n",
      "0                      3149                sao paulo             SP  \n",
      "1                     47813                barreiras             BA  \n",
      "2                     75265               vianopolis             GO  \n",
      "3                     59296  sao goncalo do amarante             RN  \n",
      "4                      9195              santo andre             SP  \n",
      "(99441, 12)\n"
     ]
    }
   ],
   "source": [
    "orders_df = pd.merge(orders_df, customers_df, on='customer_id', how='left')\n",
    "print(orders_df.head())\n",
    "print(orders_df.shape)"
   ]
  },
  {
   "cell_type": "markdown",
   "id": "75e211bc-df8c-4f32-853c-e300f991caee",
   "metadata": {},
   "source": [
    "### 2.4  Convert Order Date Columns to Datetime"
   ]
  },
  {
   "cell_type": "code",
   "execution_count": 15,
   "id": "792eeb63-eef2-4b17-a37d-fc732f64b120",
   "metadata": {},
   "outputs": [],
   "source": [
    "date_columns = [\n",
    "    'order_purchase_timestamp',\n",
    "    'order_approved_at',\n",
    "    'order_delivered_carrier_date',\n",
    "    'order_delivered_customer_date'\n",
    "]\n",
    "\n",
    "for col in date_columns:\n",
    "    orders_df[col] = pd.to_datetime(orders_df[col])\n"
   ]
  },
  {
   "cell_type": "markdown",
   "id": "a4e5d578-fab1-4922-a558-9c3eda455ef1",
   "metadata": {},
   "source": [
    "### 2.5 Map Customer States to Regions"
   ]
  },
  {
   "cell_type": "code",
   "execution_count": 16,
   "id": "1e1407af-ec9b-4d30-961d-e328b04424b5",
   "metadata": {},
   "outputs": [],
   "source": [
    "state_to_region = {\n",
    "    'AC':'North','AL':'Northeast','AP':'North','AM':'North','BA':'Northeast',\n",
    "    'CE':'Northeast','DF':'Central-West','ES':'Southeast','GO':'Central-West',\n",
    "    'MA':'Northeast','MT':'Central-West','MS':'Central-West','MG':'Southeast',\n",
    "    'PA':'North','PB':'Northeast','PR':'South','PE':'Northeast','PI':'Northeast',\n",
    "    'RJ':'Southeast','RN':'Northeast','RS':'South','RO':'North','RR':'North',\n",
    "    'SC':'South','SP':'Southeast','SE':'Northeast','TO':'North'}\n",
    "customers_df['region'] = customers_df['customer_state'].map(state_to_region)"
   ]
  },
  {
   "cell_type": "markdown",
   "id": "8ccfe0cd-da30-4d3a-b944-99624bfb34db",
   "metadata": {},
   "source": [
    "### 2.6 Filter Orders for 2017"
   ]
  },
  {
   "cell_type": "code",
   "execution_count": 17,
   "id": "39917982-4730-4d92-8af4-943e1192bdbb",
   "metadata": {},
   "outputs": [
    {
     "name": "stdout",
     "output_type": "stream",
     "text": [
      "Number of orders in 2017: 45101\n",
      "Earliest order in 2017: 2017-01-05 11:56:06\n",
      "Latest order in 2017: 2017-12-31 23:29:31\n"
     ]
    }
   ],
   "source": [
    "orders_2017_df = orders_df[orders_df['order_purchase_timestamp'].dt.year == 2017]\n",
    "print(f\"Number of orders in 2017: {orders_2017_df.shape[0]}\")\n",
    "print(f\"Earliest order in 2017: {orders_2017_df['order_purchase_timestamp'].min()}\")\n",
    "print(f\"Latest order in 2017: {orders_2017_df['order_purchase_timestamp'].max()}\")"
   ]
  },
  {
   "cell_type": "markdown",
   "id": "9ae87d30-7c56-4978-bf47-9957adba851a",
   "metadata": {},
   "source": [
    "## 3. Exploratory Data Analysis "
   ]
  },
  {
   "cell_type": "markdown",
   "id": "ddba6e83-6157-46f6-805c-1f9db1a92e50",
   "metadata": {},
   "source": [
    "### 3.1 Customer Growth and Temporal Activity Analysis"
   ]
  },
  {
   "cell_type": "markdown",
   "id": "68587c61-ccf3-425c-9579-44ed1eb323cd",
   "metadata": {},
   "source": [
    "####  How many unique customers & orders in 2017? "
   ]
  },
  {
   "cell_type": "code",
   "execution_count": 18,
   "id": "7eda5fdb-d7fc-473c-8942-c58e90d21a59",
   "metadata": {},
   "outputs": [
    {
     "name": "stdout",
     "output_type": "stream",
     "text": [
      "Total number of orders in 2017: 45101\n",
      "Total number of unique customers in 2017: 43713\n"
     ]
    }
   ],
   "source": [
    "num_orders_2017 = orders_2017_df.shape[0]\n",
    "num_unique_customers_2017 = orders_2017_df['customer_unique_id'].nunique()\n",
    "\n",
    "print(f\"Total number of orders in 2017: {num_orders_2017}\")\n",
    "print(f\"Total number of unique customers in 2017: {num_unique_customers_2017}\")"
   ]
  },
  {
   "cell_type": "markdown",
   "id": "db34d2ac-df8d-498d-8b96-bc8ccf303c7f",
   "metadata": {},
   "source": [
    "#### What is the average number of orders per customer?"
   ]
  },
  {
   "cell_type": "code",
   "execution_count": 19,
   "id": "21a203ea-dfb8-48d7-bdfc-f6a69e0da3db",
   "metadata": {},
   "outputs": [
    {
     "name": "stdout",
     "output_type": "stream",
     "text": [
      "Average number of orders per customer in 2017: 1.03\n"
     ]
    }
   ],
   "source": [
    "customer_order_counts = orders_2017_df.groupby('customer_unique_id')['order_id'].count()\n",
    "average_orders_per_customer = customer_order_counts.mean()\n",
    "\n",
    "print(f\"Average number of orders per customer in 2017: {average_orders_per_customer:.2f}\")\n"
   ]
  },
  {
   "cell_type": "markdown",
   "id": "a7c88261-9b70-460b-82ef-29bc3c4fcd55",
   "metadata": {},
   "source": [
    "#### How does the customer base & orders grow over the months?"
   ]
  },
  {
   "cell_type": "code",
   "execution_count": 20,
   "id": "0ed80ae4-2cd9-421d-8675-08e90ddc9eb8",
   "metadata": {},
   "outputs": [
    {
     "name": "stdout",
     "output_type": "stream",
     "text": [
      "   order_month  cumulative_unique_customers\n",
      "0      2017-01                          765\n",
      "1      2017-02                         2517\n",
      "2      2017-03                         5153\n",
      "3      2017-04                         7506\n",
      "4      2017-05                        11102\n",
      "5      2017-06                        14241\n",
      "6      2017-07                        18136\n",
      "7      2017-08                        22320\n",
      "8      2017-09                        26451\n",
      "9      2017-10                        30921\n",
      "10     2017-11                        38226\n",
      "11     2017-12                        43713\n"
     ]
    }
   ],
   "source": [
    "orders_2017_sorted = orders_2017_df.sort_values('order_purchase_timestamp')\n",
    "seen_customers = set()\n",
    "cumulative_counts = []\n",
    "for month, group in orders_2017_sorted.groupby(orders_2017_sorted['order_purchase_timestamp'].dt.to_period('M')):\n",
    "    seen_customers.update(group['customer_unique_id'].unique())\n",
    "    cumulative_counts.append((month, len(seen_customers)))\n",
    "cumulative_unique_customers = pd.DataFrame(cumulative_counts, columns=['order_month', 'cumulative_unique_customers'])\n",
    "print(cumulative_unique_customers)"
   ]
  },
  {
   "cell_type": "code",
   "execution_count": 21,
   "id": "d180ab42-1f72-488c-8013-f4ba10d7eb48",
   "metadata": {},
   "outputs": [
    {
     "name": "stdout",
     "output_type": "stream",
     "text": [
      "Monthly orders in 2017:\n",
      "   order_month  monthly_order_count\n",
      "0      2017-01                  800\n",
      "1      2017-02                 1780\n",
      "2      2017-03                 2682\n",
      "3      2017-04                 2404\n",
      "4      2017-05                 3700\n",
      "5      2017-06                 3245\n",
      "6      2017-07                 4026\n",
      "7      2017-08                 4331\n",
      "8      2017-09                 4285\n",
      "9      2017-10                 4631\n",
      "10     2017-11                 7544\n",
      "11     2017-12                 5673\n",
      "\n",
      "Total number of orders in 2017: 45101\n"
     ]
    }
   ],
   "source": [
    "orders_2017_df_copy = orders_2017_df.copy()\n",
    "orders_2017_sorted = orders_2017_df_copy.sort_values('order_purchase_timestamp')\n",
    "monthly_counts = []\n",
    "for month, group in orders_2017_sorted.groupby(orders_2017_sorted['order_purchase_timestamp'].dt.to_period('M')):\n",
    "    monthly_counts.append((month, group.shape[0]))\n",
    "monthly_orders = pd.DataFrame(monthly_counts, columns=['order_month', 'monthly_order_count'])\n",
    "print(\"Monthly orders in 2017:\")\n",
    "print(monthly_orders)\n",
    "total_orders_2017 = orders_2017_df_copy.shape[0]\n",
    "print(f\"\\nTotal number of orders in 2017: {total_orders_2017}\")"
   ]
  },
  {
   "cell_type": "markdown",
   "id": "63fbfa47-3d1b-4358-a577-7d624567ef0f",
   "metadata": {},
   "source": [
    " #### What is the percentage of customers made more than one purchase in 2017?"
   ]
  },
  {
   "cell_type": "code",
   "execution_count": 22,
   "id": "6c63e7a3-f5a0-4d70-bafc-ff8c1cab70a3",
   "metadata": {},
   "outputs": [
    {
     "name": "stdout",
     "output_type": "stream",
     "text": [
      "Number of repeated customers in 2017: 1256\n",
      "Percentage of repeated customers: 2.87%\n"
     ]
    }
   ],
   "source": [
    "customer_order_counts = orders_2017_df.groupby('customer_unique_id')['order_id'].count()\n",
    "repeated_customers = customer_order_counts[customer_order_counts > 1]\n",
    "num_repeated_customers = repeated_customers.shape[0]\n",
    "total_unique_customers = orders_2017_df['customer_unique_id'].nunique()\n",
    "percentage_repeated = (num_repeated_customers / total_unique_customers) * 100\n",
    "\n",
    "print(f\"Number of repeated customers in 2017: {num_repeated_customers}\")\n",
    "print(f\"Percentage of repeated customers: {percentage_repeated:.2f}%\")"
   ]
  },
  {
   "cell_type": "markdown",
   "id": "d0ca24cf-b497-4ae9-8a5e-8aded7bf496f",
   "metadata": {},
   "source": [
    "#### Which product groups in 2017 had customers who placed more than one order within the same Group?\""
   ]
  },
  {
   "cell_type": "code",
   "execution_count": 128,
   "id": "c3f9759c-0e92-49fe-a845-dca97c593060",
   "metadata": {},
   "outputs": [
    {
     "name": "stdout",
     "output_type": "stream",
     "text": [
      "                category_group  repeated_customers  total_orders\n",
      "6             Home & Furniture                 380           795\n",
      "8   Sports, Leisure & Outdoors                 153           317\n",
      "5              Health & Beauty                 118           240\n",
      "2     Electronics & Technology                  75           153\n",
      "3        Fashion & Accessories                  71           150\n",
      "0      Automotive & Industrial                  18            37\n",
      "9  Stationery & Party Supplies                  11            22\n",
      "4                 Food & Drink                   5            11\n",
      "1  Books, Music, Movies & Arts                   4             8\n",
      "7        Marketplace & Unknown                   3             6\n"
     ]
    }
   ],
   "source": [
    "orders_products_2017 = orders_2017.merge(\n",
    "    df_order_items.merge(products_merged[['product_id', 'category_group']], on='product_id', how='left'),\n",
    "    on='order_id',\n",
    "    how='left'\n",
    ")\n",
    "\n",
    "customer_category_orders = orders_products_2017.groupby(\n",
    "    ['customer_unique_id', 'category_group']\n",
    ")['order_id'].nunique().reset_index(name='order_count')\n",
    "\n",
    "repeated_category_customers = customer_category_orders[customer_category_orders['order_count'] > 1]\n",
    "\n",
    "category_summary = repeated_category_customers.groupby('category_group').agg(\n",
    "    repeated_customers=('customer_unique_id', 'nunique'),\n",
    "    total_orders=('order_count', 'sum')\n",
    ").reset_index()\n",
    "\n",
    "print(category_summary.sort_values('repeated_customers', ascending=False))\n"
   ]
  },
  {
   "cell_type": "markdown",
   "id": "8fc24d0d-b43b-4ebb-9a30-a15b213aec94",
   "metadata": {},
   "source": [
    "#### How many customers in 2017 purchased from more than one product group, and what percentage do they represent of the total customer base?"
   ]
  },
  {
   "cell_type": "code",
   "execution_count": 127,
   "id": "ecfe9ecb-c9c0-461a-b1c3-1c384067a82b",
   "metadata": {},
   "outputs": [
    {
     "name": "stdout",
     "output_type": "stream",
     "text": [
      "Number of customers who purchased from more than one group in 2017: 649\n",
      "Percentage of total customers: 1.48%\n"
     ]
    }
   ],
   "source": [
    "orders_2017_with_cust = orders_2017_df.merge(\n",
    "    df_customers[['customer_id', 'customer_unique_id']],\n",
    "    on='customer_id',\n",
    "    how='left'\n",
    ")\n",
    "\n",
    "\n",
    "orders_products_2017 = orders_2017_with_cust.merge(\n",
    "    df_order_items.merge(products_merged[['product_id', 'category_group']], on='product_id', how='left'),\n",
    "    on='order_id',\n",
    "    how='left'\n",
    ")\n",
    "\n",
    "customer_groups_count = orders_products_2017.groupby('customer_unique_id')['category_group'].nunique()\n",
    "\n",
    "multi_group_customers = customer_groups_count[customer_groups_count > 1]\n",
    "\n",
    "num_multi_group_customers = multi_group_customers.shape[0]\n",
    "total_unique_customers = orders_2017_with_cust['customer_unique_id'].nunique()\n",
    "percentage_multi_group = (num_multi_group_customers / total_unique_customers) * 100\n",
    "\n",
    "print(f\"Number of customers who purchased from more than one group in 2017: {num_multi_group_customers}\")\n",
    "print(f\"Percentage of total customers: {percentage_multi_group:.2f}%\")\n"
   ]
  },
  {
   "cell_type": "markdown",
   "id": "065a7970-1a97-48a6-bdfe-642610cd261d",
   "metadata": {},
   "source": [
    "#### What is the percentage of seasonal versus regular customers in 2017, where seasonal customers only purchased during seasonal periods and did not place any orders outside these periods?\""
   ]
  },
  {
   "cell_type": "code",
   "execution_count": 23,
   "id": "a5e4fc4a-b531-40d9-b3f3-e8efacdd06ad",
   "metadata": {},
   "outputs": [
    {
     "name": "stdout",
     "output_type": "stream",
     "text": [
      "Total unique seasonal customers in 2017: 6527\n",
      "Total unique regular customers in 2017: 37186\n",
      "\n",
      "Percentage breakdown:\n",
      "Seasonal customers: 14.93%\n",
      "Regular customers: 85.07%\n"
     ]
    }
   ],
   "source": [
    "df_merged = pd.merge(\n",
    "    customers_df[['customer_unique_id', 'customer_id']],\n",
    "    orders_2017_df[['customer_id', 'order_purchase_timestamp']],\n",
    "    on='customer_id',\n",
    "    how='inner'\n",
    ")\n",
    "\n",
    "seasonal_periods = [\n",
    "    ('2017-05-07', '2017-05-14', \"Mother's Day week\"),\n",
    "    ('2017-06-05', '2017-06-12', \"Valentine's week\"),\n",
    "    ('2017-08-06', '2017-08-13', \"Father's week\"),\n",
    "    ('2017-10-05', '2017-10-12', \"Child's Day week\"),\n",
    "    ('2017-11-20', '2017-11-27', \"Black Friday week\")\n",
    "]\n",
    "\n",
    "seasonal_periods = [(pd.to_datetime(start), pd.to_datetime(end), name) for start, end, name in seasonal_periods]\n",
    "\n",
    "seasonal_customers = set()\n",
    "for start_date, end_date, name in seasonal_periods:\n",
    "    mask = (df_merged['order_purchase_timestamp'] >= start_date) & (df_merged['order_purchase_timestamp'] <= end_date)\n",
    "    seasonal_customers.update(df_merged.loc[mask, 'customer_unique_id'].unique())\n",
    "\n",
    "all_customers_2017 = set(df_merged['customer_unique_id'].unique())\n",
    "regular_customers = all_customers_2017 - seasonal_customers\n",
    "\n",
    "seasonal_percentage = (len(seasonal_customers) / len(all_customers_2017)) * 100\n",
    "regular_percentage = (len(regular_customers) / len(all_customers_2017)) * 100\n",
    "\n",
    "print(f\"Total unique seasonal customers in 2017: {len(seasonal_customers)}\")\n",
    "print(f\"Total unique regular customers in 2017: {len(regular_customers)}\")\n",
    "print(f\"\\nPercentage breakdown:\")\n",
    "print(f\"Seasonal customers: {seasonal_percentage:.2f}%\")\n",
    "print(f\"Regular customers: {regular_percentage:.2f}%\")\n"
   ]
  },
  {
   "cell_type": "markdown",
   "id": "d4d753d7-141e-4db9-80a3-91a6afe425f7",
   "metadata": {},
   "source": [
    "#### What is the percentage of Weekened versus regular customers in 2017, where Weekend customers only purchased during Weekend period and did not place any orders outside weekends?\""
   ]
  },
  {
   "cell_type": "code",
   "execution_count": 24,
   "id": "0da59924-e1cc-4194-9498-db5e7f50c1bd",
   "metadata": {},
   "outputs": [
    {
     "name": "stdout",
     "output_type": "stream",
     "text": [
      "Customer counts by buyer type:\n",
      "Buyer_Type\n",
      "Regular Buyer    33625\n",
      "Weekend Buyer    10088\n",
      "Name: count, dtype: int64\n",
      "\n",
      "Percentage of customers by buyer type:\n",
      "Buyer_Type\n",
      "Regular Buyer    76.922197\n",
      "Weekend Buyer    23.077803\n",
      "Name: proportion, dtype: float64\n"
     ]
    }
   ],
   "source": [
    "df_merged = orders_2017_df.copy()\n",
    "\n",
    "df_merged['is_weekend'] = df_merged['order_purchase_timestamp'].dt.weekday >= 5\n",
    "\n",
    "customer_weekend_behavior = df_merged.groupby('customer_unique_id', as_index=False)['is_weekend'].min()\n",
    "\n",
    "customer_weekend_behavior['Buyer_Type'] = customer_weekend_behavior['is_weekend'].map({True: 'Weekend Buyer', False: 'Regular Buyer'})\n",
    "\n",
    "buyer_counts = customer_weekend_behavior['Buyer_Type'].value_counts()\n",
    "buyer_percentage = customer_weekend_behavior['Buyer_Type'].value_counts(normalize=True) * 100\n",
    "\n",
    "print(\"Customer counts by buyer type:\")\n",
    "print(buyer_counts)\n",
    "print(\"\\nPercentage of customers by buyer type:\")\n",
    "print(buyer_percentage)\n"
   ]
  },
  {
   "cell_type": "markdown",
   "id": "1bafbd7e-8be2-4614-82ce-88fec12f0119",
   "metadata": {},
   "source": [
    "#### How many orders and customers used vouchers in 2017, what proportion of customers used them at least once, who used them exclusively, and who never used them?”"
   ]
  },
  {
   "cell_type": "code",
   "execution_count": 25,
   "id": "d8b3b864-b729-4438-ab22-562434dba993",
   "metadata": {},
   "outputs": [
    {
     "name": "stdout",
     "output_type": "stream",
     "text": [
      "Number of orders with vouchers: 1925\n",
      "Number of orders without vouchers: 43176\n",
      "Number of customers who purchased at least once with vouchers: 1882\n",
      "Percentage of customers who purchased at least once with vouchers: 4.31%\n",
      "Number of customers who purchased only with vouchers: 713\n",
      "Percentage of customers who purchased only with vouchers: 1.63%\n",
      "Number of customers who never used vouchers: 41831\n",
      "Percentage of customers who never used vouchers: 95.69%\n"
     ]
    }
   ],
   "source": [
    "orders_payments_2017 = orders_2017_df.merge(\n",
    "    order_payments_df[['order_id', 'payment_type']],\n",
    "    on='order_id',\n",
    "    how='left'\n",
    ")\n",
    "\n",
    "orders_voucher_flags = orders_payments_2017.groupby('order_id')['payment_type'].apply(lambda x: 'voucher' in x.values)\n",
    "num_orders_with_voucher = orders_voucher_flags.sum()\n",
    "num_orders_without_voucher = (~orders_voucher_flags).sum()\n",
    "\n",
    "customer_payment_types = orders_payments_2017.groupby('customer_unique_id')['payment_type'].unique()\n",
    "customers_only_voucher = customer_payment_types[customer_payment_types.apply(lambda x: set(x) == {'voucher'})]\n",
    "num_customers_only_voucher = customers_only_voucher.shape[0]\n",
    "\n",
    "customers_with_voucher = customer_payment_types[customer_payment_types.apply(lambda x: 'voucher' in x)]\n",
    "num_customers_with_voucher = customers_with_voucher.shape[0]\n",
    "\n",
    "customers_without_voucher = customer_payment_types[customer_payment_types.apply(lambda x: 'voucher' not in x)]\n",
    "num_customers_without_voucher = customers_without_voucher.shape[0]\n",
    "\n",
    "total_customers_2017 = orders_2017_df['customer_unique_id'].nunique()\n",
    "percentage_only_voucher = (num_customers_only_voucher / total_customers_2017) * 100\n",
    "percentage_customers_with_voucher = (num_customers_with_voucher / total_customers_2017) * 100\n",
    "percentage_customers_without_voucher = (num_customers_without_voucher / total_customers_2017) * 100\n",
    "\n",
    "print(f\"Number of orders with vouchers: {num_orders_with_voucher}\")\n",
    "print(f\"Number of orders without vouchers: {num_orders_without_voucher}\")\n",
    "print(f\"Number of customers who purchased at least once with vouchers: {num_customers_with_voucher}\")\n",
    "print(f\"Percentage of customers who purchased at least once with vouchers: {percentage_customers_with_voucher:.2f}%\")\n",
    "print(f\"Number of customers who purchased only with vouchers: {num_customers_only_voucher}\")\n",
    "print(f\"Percentage of customers who purchased only with vouchers: {percentage_only_voucher:.2f}%\")\n",
    "print(f\"Number of customers who never used vouchers: {num_customers_without_voucher}\")\n",
    "print(f\"Percentage of customers who never used vouchers: {percentage_customers_without_voucher:.2f}%\")\n"
   ]
  },
  {
   "cell_type": "code",
   "execution_count": 26,
   "id": "1b968a8f-7179-4650-a558-8dcc9b7eb5e2",
   "metadata": {},
   "outputs": [
    {
     "name": "stdout",
     "output_type": "stream",
     "text": [
      "Number of orders with more than one payment method: 1169\n"
     ]
    }
   ],
   "source": [
    "orders_payments_2017 = order_payments_df[order_payments_df['order_id'].isin(orders_2017_df['order_id'])]\n",
    "payment_counts_per_order = orders_payments_2017.groupby('order_id')['payment_type'].nunique()\n",
    "orders_multiple_payment_methods = payment_counts_per_order[payment_counts_per_order > 1].count()\n",
    "print(f\"Number of orders with more than one payment method: {orders_multiple_payment_methods}\")\n"
   ]
  },
  {
   "cell_type": "code",
   "execution_count": 88,
   "id": "ace39310-4041-4132-8b61-64b6d6180fe4",
   "metadata": {},
   "outputs": [
    {
     "name": "stdout",
     "output_type": "stream",
     "text": [
      "Number of orders paid only with vouchers: 756\n"
     ]
    }
   ],
   "source": [
    "orders_payments_2017 = order_payments_df[order_payments_df['order_id'].isin(orders_2017_df['order_id'])]\n",
    "voucher_only_orders = orders_payments_2017.groupby('order_id')['payment_type'].apply(lambda x: set(x) == {'voucher'})\n",
    "num_voucher_only_orders = voucher_only_orders.sum()\n",
    "print(f\"Number of orders paid only with vouchers: {num_voucher_only_orders}\")"
   ]
  },
  {
   "cell_type": "code",
   "execution_count": 89,
   "id": "ac13f012-52da-4428-b561-654af424516a",
   "metadata": {},
   "outputs": [
    {
     "name": "stdout",
     "output_type": "stream",
     "text": [
      "Total transactions with voucher: 1925\n",
      "Total transactions without voucher: 43176\n"
     ]
    }
   ],
   "source": [
    "total_transactions_with_voucher = orders_voucher_flags.sum()\n",
    "total_transactions_without_voucher = (~orders_voucher_flags).sum()\n",
    "\n",
    "print(f\"Total transactions with voucher: {total_transactions_with_voucher}\")\n",
    "print(f\"Total transactions without voucher: {total_transactions_without_voucher}\")\n"
   ]
  },
  {
   "cell_type": "code",
   "execution_count": 90,
   "id": "4ca4a327-9bc4-4a11-9470-0bb55d232465",
   "metadata": {},
   "outputs": [
    {
     "name": "stdout",
     "output_type": "stream",
     "text": [
      "Total transactions involving vouchers: 3027\n"
     ]
    }
   ],
   "source": [
    "total_voucher_transactions = orders_payments_2017[orders_payments_2017['payment_type'] == 'voucher'].shape[0]\n",
    "\n",
    "print(f\"Total transactions involving vouchers: {total_voucher_transactions}\")\n"
   ]
  },
  {
   "cell_type": "markdown",
   "id": "2d8a1b13-5665-4df8-8b42-09ba07866077",
   "metadata": {},
   "source": [
    "### How many orders in 2017 were purchased at a discount, and what is the distribution of customers who bought discounted products versus those who never bought discounted products?"
   ]
  },
  {
   "cell_type": "code",
   "execution_count": 28,
   "id": "fed09599-d3ff-42f5-80a0-bfabe61c0e2f",
   "metadata": {},
   "outputs": [
    {
     "name": "stdout",
     "output_type": "stream",
     "text": [
      "Number of discounted orders: 5106\n",
      "Number of non-discounted orders: 39995\n",
      "Total customers who purchased at least once discounted: 5063 (11.58%)\n",
      "Total customers who purchased only discounted: 4882 (11.17%)\n",
      "Total customers who never purchased discounted: 38650 (88.42%)\n"
     ]
    }
   ],
   "source": [
    "orders_items_df = pd.read_csv('olist_order_items_dataset.csv')\n",
    "order_payments_df = pd.read_csv('olist_order_payments_dataset.csv')\n",
    "\n",
    "orders_items_payments_2017 = orders_2017_df.merge(\n",
    "    orders_items_df[['order_id', 'price', 'freight_value']],\n",
    "    on='order_id',\n",
    "    how='left'\n",
    ").merge(\n",
    "    order_payments_df[['order_id', 'payment_value']],\n",
    "    on='order_id',\n",
    "    how='left'\n",
    ")\n",
    "\n",
    "orders_total_2017 = orders_items_payments_2017.groupby('order_id').agg(\n",
    "    total_price=('price', 'sum'),\n",
    "    total_freight=('freight_value', 'sum'),\n",
    "    total_payment=('payment_value', 'sum'),\n",
    "    customer_unique_id=('customer_unique_id', 'first')\n",
    ").reset_index()\n",
    "\n",
    "orders_total_2017['is_discounted'] = orders_total_2017['total_payment'] < (orders_total_2017['total_price'] + orders_total_2017['total_freight'])\n",
    "\n",
    "num_discounted_orders = orders_total_2017['is_discounted'].sum()\n",
    "num_non_discounted_orders = (~orders_total_2017['is_discounted']).sum()\n",
    "\n",
    "customer_discount_info = orders_total_2017.groupby('customer_unique_id')['is_discounted'].agg(list).reset_index()\n",
    "customers_discounted_once = customer_discount_info[customer_discount_info['is_discounted'].apply(lambda x: any(x))].shape[0]\n",
    "customers_only_discounted = customer_discount_info[customer_discount_info['is_discounted'].apply(lambda x: all(x))].shape[0]\n",
    "customers_never_discounted = customer_discount_info[customer_discount_info['is_discounted'].apply(lambda x: not any(x))].shape[0]\n",
    "\n",
    "total_customers = orders_total_2017['customer_unique_id'].nunique()\n",
    "\n",
    "print(f\"Number of discounted orders: {num_discounted_orders}\")\n",
    "print(f\"Number of non-discounted orders: {num_non_discounted_orders}\")\n",
    "print(f\"Total customers who purchased at least once discounted: {customers_discounted_once} ({customers_discounted_once/total_customers*100:.2f}%)\")\n",
    "print(f\"Total customers who purchased only discounted: {customers_only_discounted} ({customers_only_discounted/total_customers*100:.2f}%)\")\n",
    "print(f\"Total customers who never purchased discounted: {customers_never_discounted} ({customers_never_discounted/total_customers*100:.2f}%)\")\n"
   ]
  },
  {
   "cell_type": "markdown",
   "id": "97126df0-e473-42b1-862d-12e87b40fe3e",
   "metadata": {},
   "source": [
    "### Monthly Distribution of Unique Customers Purchasing Discounted Products in 2017"
   ]
  },
  {
   "cell_type": "code",
   "execution_count": 130,
   "id": "9ae68eda-92fc-4b4f-8c9a-c15602053252",
   "metadata": {},
   "outputs": [
    {
     "name": "stdout",
     "output_type": "stream",
     "text": [
      "Number of unique customers who bought discounted products per month in 2017:\n",
      "month\n",
      "Jan        93\n",
      "Feb       243\n",
      "Mar       336\n",
      "Apr       326\n",
      "May       408\n",
      "Jun       359\n",
      "Jul       467\n",
      "Aug       457\n",
      "Sep       471\n",
      "Oct       507\n",
      "Nov       823\n",
      "Dec       586\n",
      "Total    5063\n",
      "Name: customer_unique_id, dtype: int64\n"
     ]
    }
   ],
   "source": [
    "orders_df = pd.read_csv('olist_orders_dataset.csv')\n",
    "order_items_df = pd.read_csv('olist_order_items_dataset.csv')\n",
    "order_payments_df = pd.read_csv('olist_order_payments_dataset.csv')\n",
    "customers_df = pd.read_csv('olist_customers_dataset.csv')\n",
    "\n",
    "\n",
    "orders_df['order_purchase_timestamp'] = pd.to_datetime(orders_df['order_purchase_timestamp'])\n",
    "\n",
    "\n",
    "orders_2017_df = orders_df[orders_df['order_purchase_timestamp'].dt.year == 2017].copy()\n",
    "\n",
    "\n",
    "merged_df = pd.merge(orders_2017_df, order_items_df, on='order_id', how='inner')\n",
    "\n",
    "\n",
    "final_merged_df = pd.merge(merged_df, order_payments_df, on='order_id', how='inner')\n",
    "\n",
    "\n",
    "agg_df = final_merged_df.groupby('order_id').agg(\n",
    "    total_price=('price', 'sum'),\n",
    "    total_freight=('freight_value', 'sum'),\n",
    "    total_payment=('payment_value', 'sum')\n",
    ").reset_index()\n",
    "\n",
    "\n",
    "agg_df['is_discounted'] = (agg_df['total_price'] + agg_df['total_freight']) > agg_df['total_payment']\n",
    "\n",
    "\n",
    "discounted_orders_customers_df = pd.merge(\n",
    "    agg_df, orders_2017_df, on='order_id', how='inner'\n",
    ")\n",
    "\n",
    "\n",
    "discounted_orders_customers_df = pd.merge(\n",
    "    discounted_orders_customers_df,\n",
    "    customers_df[['customer_id', 'customer_unique_id']],\n",
    "    on='customer_id', how='inner'\n",
    ")\n",
    "\n",
    "\n",
    "discounted_orders_customers_df = discounted_orders_customers_df[\n",
    "    discounted_orders_customers_df['is_discounted'] == True\n",
    "].copy()\n",
    "\n",
    "\n",
    "discounted_orders_customers_df['month'] = discounted_orders_customers_df['order_purchase_timestamp'].dt.strftime('%b')\n",
    "\n",
    "\n",
    "monthly_customers = discounted_orders_customers_df.groupby('month')['customer_unique_id'].nunique()\n",
    "\n",
    "\n",
    "months_order = ['Jan','Feb','Mar','Apr','May','Jun','Jul','Aug','Sep','Oct','Nov','Dec']\n",
    "monthly_customers = monthly_customers.reindex(months_order, fill_value=0)\n",
    "\n",
    "\n",
    "monthly_customers['Total'] = discounted_orders_customers_df['customer_unique_id'].nunique()\n",
    "\n",
    "print(\"Number of unique customers who bought discounted products per month in 2017:\")\n",
    "print(monthly_customers)\n"
   ]
  },
  {
   "cell_type": "markdown",
   "id": "fe9e040f-44fd-4eec-9a01-f80c338e1707",
   "metadata": {},
   "source": [
    "### Monthly Distribution of Unique Orders for Discounted Products in 2017"
   ]
  },
  {
   "cell_type": "code",
   "execution_count": 133,
   "id": "6c5f186d-c8b6-42a2-bfde-6979b6edeff0",
   "metadata": {},
   "outputs": [
    {
     "name": "stdout",
     "output_type": "stream",
     "text": [
      "Number of discounted orders per month in 2017:\n",
      "month\n",
      "Jan        97\n",
      "Feb       243\n",
      "Mar       341\n",
      "Apr       327\n",
      "May       411\n",
      "Jun       363\n",
      "Jul       473\n",
      "Aug       459\n",
      "Sep       471\n",
      "Oct       509\n",
      "Nov       824\n",
      "Dec       588\n",
      "Total    5106\n",
      "Name: order_id, dtype: int64\n"
     ]
    }
   ],
   "source": [
    "\n",
    "orders_df = pd.read_csv('olist_orders_dataset.csv')\n",
    "order_items_df = pd.read_csv('olist_order_items_dataset.csv')\n",
    "order_payments_df = pd.read_csv('olist_order_payments_dataset.csv')\n",
    "customers_df = pd.read_csv('olist_customers_dataset.csv')\n",
    "\n",
    "orders_df['order_purchase_timestamp'] = pd.to_datetime(orders_df['order_purchase_timestamp'])\n",
    "\n",
    "orders_2017_df = orders_df[orders_df['order_purchase_timestamp'].dt.year == 2017].copy()\n",
    "\n",
    "merged_df = pd.merge(orders_2017_df, order_items_df, on='order_id', how='inner')\n",
    "final_merged_df = pd.merge(merged_df, order_payments_df, on='order_id', how='inner')\n",
    "\n",
    "agg_df = final_merged_df.groupby('order_id').agg(\n",
    "    total_price=('price', 'sum'),\n",
    "    total_freight=('freight_value', 'sum'),\n",
    "    total_payment=('payment_value', 'sum')\n",
    ").reset_index()\n",
    "\n",
    "agg_df['is_discounted'] = (agg_df['total_price'] + agg_df['total_freight']) > agg_df['total_payment']\n",
    "\n",
    "discounted_orders_df = pd.merge(\n",
    "    agg_df, orders_2017_df, on='order_id', how='inner'\n",
    ")\n",
    "\n",
    "discounted_orders_df = discounted_orders_df[discounted_orders_df['is_discounted'] == True].copy()\n",
    "\n",
    "discounted_orders_df['month'] = discounted_orders_df['order_purchase_timestamp'].dt.strftime('%b')\n",
    "\n",
    "monthly_orders = discounted_orders_df.groupby('month')['order_id'].count()\n",
    "\n",
    "months_order = ['Jan','Feb','Mar','Apr','May','Jun','Jul','Aug','Sep','Oct','Nov','Dec']\n",
    "monthly_orders = monthly_orders.reindex(months_order, fill_value=0)\n",
    "\n",
    "monthly_orders['Total'] = discounted_orders_df['order_id'].count()\n",
    "\n",
    "print(\"Number of discounted orders per month in 2017:\")\n",
    "print(monthly_orders)"
   ]
  },
  {
   "cell_type": "markdown",
   "id": "99b4963a-22b0-479e-bd56-d6b109af5469",
   "metadata": {},
   "source": [
    "## 3.2 Geographic Distribution"
   ]
  },
  {
   "cell_type": "code",
   "execution_count": 29,
   "id": "0bf72d47-ad86-4662-a12e-a4c8978a68e0",
   "metadata": {},
   "outputs": [
    {
     "name": "stdout",
     "output_type": "stream",
     "text": [
      "region\n",
      "Central-West     2513\n",
      "North             926\n",
      "Northeast        4408\n",
      "South            6452\n",
      "Southeast       29414\n",
      "Name: customer_unique_id, dtype: int64\n",
      "Total unique customers in 2017: 43713\n"
     ]
    }
   ],
   "source": [
    "\n",
    "unique_customers = customers_df.drop_duplicates(subset='customer_unique_id')[['customer_unique_id', 'region']]\n",
    "\n",
    "unique_customers_2017 = unique_customers.merge(\n",
    "    orders_2017_df[['customer_id', 'customer_unique_id']].drop_duplicates(),\n",
    "    on='customer_unique_id',\n",
    "    how='inner'\n",
    ")\n",
    "\n",
    "\n",
    "unique_customers_2017_per_region = unique_customers_2017.groupby('region')['customer_unique_id'].nunique()\n",
    "\n",
    "print(unique_customers_2017_per_region)\n",
    "print(\"Total unique customers in 2017:\", unique_customers_2017_per_region.sum())\n"
   ]
  },
  {
   "cell_type": "code",
   "execution_count": 39,
   "id": "42a3d18e-5eee-4e19-9466-b9ef519841d5",
   "metadata": {},
   "outputs": [
    {
     "data": {
      "text/html": [
       "<div>\n",
       "<style scoped>\n",
       "    .dataframe tbody tr th:only-of-type {\n",
       "        vertical-align: middle;\n",
       "    }\n",
       "\n",
       "    .dataframe tbody tr th {\n",
       "        vertical-align: top;\n",
       "    }\n",
       "\n",
       "    .dataframe thead th {\n",
       "        text-align: right;\n",
       "    }\n",
       "</style>\n",
       "<table border=\"1\" class=\"dataframe\">\n",
       "  <thead>\n",
       "    <tr style=\"text-align: right;\">\n",
       "      <th></th>\n",
       "      <th>region</th>\n",
       "      <th>order_id</th>\n",
       "    </tr>\n",
       "  </thead>\n",
       "  <tbody>\n",
       "    <tr>\n",
       "      <th>0</th>\n",
       "      <td>Southeast</td>\n",
       "      <td>30367</td>\n",
       "    </tr>\n",
       "    <tr>\n",
       "      <th>1</th>\n",
       "      <td>South</td>\n",
       "      <td>6651</td>\n",
       "    </tr>\n",
       "    <tr>\n",
       "      <th>2</th>\n",
       "      <td>Northeast</td>\n",
       "      <td>4531</td>\n",
       "    </tr>\n",
       "    <tr>\n",
       "      <th>3</th>\n",
       "      <td>Central-West</td>\n",
       "      <td>2597</td>\n",
       "    </tr>\n",
       "    <tr>\n",
       "      <th>4</th>\n",
       "      <td>North</td>\n",
       "      <td>955</td>\n",
       "    </tr>\n",
       "    <tr>\n",
       "      <th>5</th>\n",
       "      <td>Total</td>\n",
       "      <td>45101</td>\n",
       "    </tr>\n",
       "  </tbody>\n",
       "</table>\n",
       "</div>"
      ],
      "text/plain": [
       "         region  order_id\n",
       "0     Southeast     30367\n",
       "1         South      6651\n",
       "2     Northeast      4531\n",
       "3  Central-West      2597\n",
       "4         North       955\n",
       "5         Total     45101"
      ]
     },
     "execution_count": 39,
     "metadata": {},
     "output_type": "execute_result"
    }
   ],
   "source": [
    "\n",
    "state_to_region = {\n",
    "    'AC':'North','AL':'Northeast','AP':'North','AM':'North','BA':'Northeast',\n",
    "    'CE':'Northeast','DF':'Central-West','ES':'Southeast','GO':'Central-West',\n",
    "    'MA':'Northeast','MT':'Central-West','MS':'Central-West','MG':'Southeast',\n",
    "    'PA':'North','PB':'Northeast','PR':'South','PE':'Northeast','PI':'Northeast',\n",
    "    'RJ':'Southeast','RN':'Northeast','RS':'South','RO':'North','RR':'North',\n",
    "    'SC':'South','SP':'Southeast','SE':'Northeast','TO':'North'\n",
    "}\n",
    "\n",
    "customers_df['region'] = customers_df['customer_state'].map(state_to_region)\n",
    "\n",
    "orders_df['order_purchase_timestamp'] = pd.to_datetime(orders_df['order_purchase_timestamp'])\n",
    "orders_2017_df = orders_df[orders_df['order_purchase_timestamp'].dt.year == 2017]\n",
    "\n",
    "orders_with_region = orders_2017_df.merge(\n",
    "    customers_df[['customer_id', 'region']],\n",
    "    on='customer_id',\n",
    "    how='left'\n",
    ")\n",
    "\n",
    "\n",
    "orders_count_by_region = orders_with_region.groupby('region')['order_id'].count().reset_index()\n",
    "orders_count_by_region = orders_count_by_region.sort_values(by='order_id', ascending=False)\n",
    "\n",
    "\n",
    "total_orders = orders_2017_df['order_id'].nunique()\n",
    "orders_count_by_region = pd.concat([\n",
    "    orders_count_by_region,\n",
    "    pd.DataFrame([{'region': 'Total', 'order_id': total_orders}])\n",
    "], ignore_index=True)\n",
    "\n",
    "orders_count_by_region"
   ]
  },
  {
   "cell_type": "markdown",
   "id": "f3f4c13a-84b1-4333-82bd-f6973aab1064",
   "metadata": {},
   "source": [
    "## 3.3 Buyer and Product Preferences"
   ]
  },
  {
   "cell_type": "markdown",
   "id": "e5801a17-ada4-4bd8-8f0a-0eb00c20cb05",
   "metadata": {},
   "source": [
    "### Which product category groups had the highest number of items sold in 2017?"
   ]
  },
  {
   "cell_type": "code",
   "execution_count": 40,
   "id": "92868980-3d60-4e25-a663-1fabb4c19c67",
   "metadata": {},
   "outputs": [
    {
     "data": {
      "text/html": [
       "<div>\n",
       "<style scoped>\n",
       "    .dataframe tbody tr th:only-of-type {\n",
       "        vertical-align: middle;\n",
       "    }\n",
       "\n",
       "    .dataframe tbody tr th {\n",
       "        vertical-align: top;\n",
       "    }\n",
       "\n",
       "    .dataframe thead th {\n",
       "        text-align: right;\n",
       "    }\n",
       "</style>\n",
       "<table border=\"1\" class=\"dataframe\">\n",
       "  <thead>\n",
       "    <tr style=\"text-align: right;\">\n",
       "      <th></th>\n",
       "      <th>category_group</th>\n",
       "      <th>num_items_sold</th>\n",
       "      <th>percentage</th>\n",
       "    </tr>\n",
       "  </thead>\n",
       "  <tbody>\n",
       "    <tr>\n",
       "      <th>0</th>\n",
       "      <td>Home &amp; Furniture</td>\n",
       "      <td>15047</td>\n",
       "      <td>29.58</td>\n",
       "    </tr>\n",
       "    <tr>\n",
       "      <th>1</th>\n",
       "      <td>Sports, Leisure &amp; Outdoors</td>\n",
       "      <td>9998</td>\n",
       "      <td>19.66</td>\n",
       "    </tr>\n",
       "    <tr>\n",
       "      <th>2</th>\n",
       "      <td>Electronics &amp; Technology</td>\n",
       "      <td>7423</td>\n",
       "      <td>14.59</td>\n",
       "    </tr>\n",
       "    <tr>\n",
       "      <th>3</th>\n",
       "      <td>Health &amp; Beauty</td>\n",
       "      <td>6756</td>\n",
       "      <td>13.28</td>\n",
       "    </tr>\n",
       "    <tr>\n",
       "      <th>4</th>\n",
       "      <td>Fashion &amp; Accessories</td>\n",
       "      <td>4529</td>\n",
       "      <td>8.90</td>\n",
       "    </tr>\n",
       "    <tr>\n",
       "      <th>5</th>\n",
       "      <td>Stationery &amp; Party Supplies</td>\n",
       "      <td>3310</td>\n",
       "      <td>6.51</td>\n",
       "    </tr>\n",
       "    <tr>\n",
       "      <th>6</th>\n",
       "      <td>Automotive &amp; Industrial</td>\n",
       "      <td>1641</td>\n",
       "      <td>3.23</td>\n",
       "    </tr>\n",
       "    <tr>\n",
       "      <th>7</th>\n",
       "      <td>Marketplace &amp; Unknown</td>\n",
       "      <td>1108</td>\n",
       "      <td>2.18</td>\n",
       "    </tr>\n",
       "    <tr>\n",
       "      <th>8</th>\n",
       "      <td>Books, Music, Movies &amp; Arts</td>\n",
       "      <td>692</td>\n",
       "      <td>1.36</td>\n",
       "    </tr>\n",
       "    <tr>\n",
       "      <th>9</th>\n",
       "      <td>Food &amp; Drink</td>\n",
       "      <td>360</td>\n",
       "      <td>0.71</td>\n",
       "    </tr>\n",
       "    <tr>\n",
       "      <th>10</th>\n",
       "      <td>Total</td>\n",
       "      <td>50864</td>\n",
       "      <td>100.00</td>\n",
       "    </tr>\n",
       "  </tbody>\n",
       "</table>\n",
       "</div>"
      ],
      "text/plain": [
       "                 category_group  num_items_sold  percentage\n",
       "0              Home & Furniture           15047       29.58\n",
       "1    Sports, Leisure & Outdoors            9998       19.66\n",
       "2      Electronics & Technology            7423       14.59\n",
       "3               Health & Beauty            6756       13.28\n",
       "4         Fashion & Accessories            4529        8.90\n",
       "5   Stationery & Party Supplies            3310        6.51\n",
       "6       Automotive & Industrial            1641        3.23\n",
       "7         Marketplace & Unknown            1108        2.18\n",
       "8   Books, Music, Movies & Arts             692        1.36\n",
       "9                  Food & Drink             360        0.71\n",
       "10                        Total           50864      100.00"
      ]
     },
     "execution_count": 40,
     "metadata": {},
     "output_type": "execute_result"
    }
   ],
   "source": [
    "orders_items_2017 = orders_2017_df.merge(\n",
    "    order_items_df, \n",
    "    on='order_id', \n",
    "    how='inner'\n",
    ")\n",
    "\n",
    "orders_items_with_categories = orders_items_2017.merge(\n",
    "    products_merged[['product_id', 'category_group']], \n",
    "    on='product_id', \n",
    "    how='left'\n",
    ")\n",
    "\n",
    "orders_items_with_categories['category_group'] = orders_items_with_categories['category_group'].fillna('Marketplace & Unknown')\n",
    "\n",
    "items_per_category = orders_items_with_categories.groupby('category_group')['order_item_id'].count().reset_index()\n",
    "items_per_category.columns = ['category_group', 'num_items_sold']\n",
    "items_per_category = items_per_category.sort_values('num_items_sold', ascending=False)\n",
    "\n",
    "total_items_2017 = items_per_category['num_items_sold'].sum()\n",
    "items_per_category['percentage'] = (items_per_category['num_items_sold'] / total_items_2017 * 100).round(2)\n",
    "\n",
    "items_per_category = pd.concat([\n",
    "    items_per_category,\n",
    "    pd.DataFrame([{\n",
    "        'category_group': 'Total',\n",
    "        'num_items_sold': total_items_2017,\n",
    "        'percentage': items_per_category['percentage'].sum()\n",
    "    }])\n",
    "], ignore_index=True)\n",
    "\n",
    "items_per_category\n"
   ]
  },
  {
   "cell_type": "markdown",
   "id": "4680066d-7dd6-4e2b-aa35-2d60927e985d",
   "metadata": {},
   "source": [
    "#### How many unique customers purchased single vs. multiple product types in 2017, and what are their proportions?"
   ]
  },
  {
   "cell_type": "code",
   "execution_count": 66,
   "id": "e995d04b-021a-41d6-8946-e25610dbfac3",
   "metadata": {},
   "outputs": [
    {
     "name": "stdout",
     "output_type": "stream",
     "text": [
      "Total number of unique customers in 2017: 43713\n",
      "Customers who bought multiple product types: 2409\n",
      "Customers who bought a single product type: 41304\n",
      "Percentage of multi-product customers: 5.51%\n",
      "Percentage of single-product customers: 94.49%\n"
     ]
    }
   ],
   "source": [
    "\n",
    "df_customers = pd.read_csv('olist_customers_dataset.csv')\n",
    "df_orders = pd.read_csv('olist_orders_dataset.csv')\n",
    "df_order_items = pd.read_csv('olist_order_items_dataset.csv')\n",
    "\n",
    "\n",
    "df_orders['order_purchase_timestamp'] = pd.to_datetime(df_orders['order_purchase_timestamp'])\n",
    "\n",
    "\n",
    "orders_2017 = df_orders[df_orders['order_purchase_timestamp'].dt.year == 2017].copy()\n",
    "\n",
    "\n",
    "orders_2017 = pd.merge(\n",
    "    orders_2017,\n",
    "    df_customers[['customer_id', 'customer_unique_id']],\n",
    "    on='customer_id',\n",
    "    how='left'\n",
    ")\n",
    "\n",
    "\n",
    "total_customers_2017 = orders_2017['customer_unique_id'].nunique()\n",
    "\n",
    "\n",
    "orders_items_2017 = pd.merge(\n",
    "    orders_2017[['order_id', 'customer_unique_id']],\n",
    "    df_order_items[['order_id', 'product_id']],\n",
    "    on='order_id',\n",
    "    how='inner'\n",
    ")\n",
    "\n",
    "\n",
    "customer_unique_products = orders_items_2017.groupby('customer_unique_id')['product_id'].nunique()\n",
    "\n",
    "\n",
    "multi_product_customers = customer_unique_products[customer_unique_products > 1]\n",
    "single_product_customers = customer_unique_products[customer_unique_products == 1]\n",
    "\n",
    "\n",
    "other_customers_count = total_customers_2017 - (len(multi_product_customers) + len(single_product_customers))\n",
    "single_product_total = len(single_product_customers) + other_customers_count\n",
    "\n",
    "print(f\"Total number of unique customers in 2017: {total_customers_2017}\")\n",
    "print(f\"Customers who bought multiple product types: {len(multi_product_customers)}\")\n",
    "print(f\"Customers who bought a single product type: {single_product_total}\")\n",
    "print(f\"Percentage of multi-product customers: {len(multi_product_customers)/total_customers_2017*100:.2f}%\")\n",
    "print(f\"Percentage of single-product customers: {single_product_total/total_customers_2017*100:.2f}%\")\n"
   ]
  },
  {
   "cell_type": "markdown",
   "id": "8aba72dd-8770-4c14-9514-b5c36ab5c3f9",
   "metadata": {},
   "source": [
    "#### How many customers in 2017 placed single-item orders versus multi-item orders, and what are their proportions?"
   ]
  },
  {
   "cell_type": "code",
   "execution_count": 70,
   "id": "a0bdc16e-aab4-4be6-ba03-c11cfba2a0e1",
   "metadata": {},
   "outputs": [
    {
     "name": "stdout",
     "output_type": "stream",
     "text": [
      "                      Count  Percentage\n",
      "Customer_Type                          \n",
      "Single-Item Customer  39330   89.973235\n",
      "Multi-Item Customer    4383   10.026765\n",
      "\n",
      "Sum of customer types: 43713\n"
     ]
    }
   ],
   "source": [
    "\n",
    "df_customers = pd.read_csv('olist_customers_dataset.csv')\n",
    "df_orders = pd.read_csv('olist_orders_dataset.csv')\n",
    "df_order_items = pd.read_csv('olist_order_items_dataset.csv')\n",
    "\n",
    "\n",
    "df_orders['order_purchase_timestamp'] = pd.to_datetime(df_orders['order_purchase_timestamp'])\n",
    "\n",
    "\n",
    "orders_2017 = df_orders[df_orders['order_purchase_timestamp'].dt.year == 2017].copy()\n",
    "\n",
    "\n",
    "orders_2017 = pd.merge(\n",
    "    orders_2017,\n",
    "    df_customers[['customer_id', 'customer_unique_id']],\n",
    "    on='customer_id',\n",
    "    how='inner'  \n",
    ")\n",
    "\n",
    "order_item_counts = df_order_items.groupby('order_id')['order_item_id'].count().reset_index()\n",
    "order_item_counts.rename(columns={'order_item_id': 'num_items'}, inplace=True)\n",
    "\n",
    "\n",
    "orders_with_item_count = pd.merge(\n",
    "    orders_2017[['order_id', 'customer_unique_id']],\n",
    "    order_item_counts,\n",
    "    on='order_id',\n",
    "    how='left'\n",
    ")\n",
    "\n",
    "\n",
    "orders_with_item_count['num_items'] = orders_with_item_count['num_items'].fillna(1)\n",
    "\n",
    "\n",
    "orders_with_item_count['Order_Type'] = orders_with_item_count['num_items'].apply(\n",
    "    lambda x: 'Single-Item Order' if x == 1 else 'Multi-Item Order'\n",
    ")\n",
    "\n",
    "\n",
    "customer_classification = orders_with_item_count.groupby('customer_unique_id')['Order_Type'].apply(\n",
    "    lambda x: 'Multi-Item Customer' if 'Multi-Item Order' in x.values else 'Single-Item Customer'\n",
    ").reset_index()\n",
    "\n",
    "customer_classification.columns = ['customer_unique_id', 'Customer_Type']\n",
    "\n",
    "\n",
    "customer_counts = customer_classification['Customer_Type'].value_counts()\n",
    "customer_percentage = customer_classification['Customer_Type'].value_counts(normalize=True) * 100\n",
    "\n",
    "\n",
    "result_df = pd.DataFrame({\n",
    "    'Count': customer_counts,\n",
    "    'Percentage': customer_percentage\n",
    "})\n",
    "print(result_df)\n",
    "\n",
    "\n",
    "print(f\"\\nSum of customer types: {result_df['Count'].sum()}\")"
   ]
  },
  {
   "cell_type": "markdown",
   "id": "db4cf7bf-3dee-4885-b969-389d092714d2",
   "metadata": {},
   "source": [
    "### 3.4 Payment preferences"
   ]
  },
  {
   "cell_type": "markdown",
   "id": "ccac9bf2-fc2d-49fd-bec7-ceea99892deb",
   "metadata": {},
   "source": [
    "#### What is the most used payment method by cutomers? (by number of transactions)"
   ]
  },
  {
   "cell_type": "code",
   "execution_count": 41,
   "id": "35317ac4-bb87-4a80-b063-1aed44adda10",
   "metadata": {},
   "outputs": [
    {
     "data": {
      "text/html": [
       "<div>\n",
       "<style scoped>\n",
       "    .dataframe tbody tr th:only-of-type {\n",
       "        vertical-align: middle;\n",
       "    }\n",
       "\n",
       "    .dataframe tbody tr th {\n",
       "        vertical-align: top;\n",
       "    }\n",
       "\n",
       "    .dataframe thead th {\n",
       "        text-align: right;\n",
       "    }\n",
       "</style>\n",
       "<table border=\"1\" class=\"dataframe\">\n",
       "  <thead>\n",
       "    <tr style=\"text-align: right;\">\n",
       "      <th></th>\n",
       "      <th>payment_type</th>\n",
       "      <th>num_transactions</th>\n",
       "      <th>percentage</th>\n",
       "    </tr>\n",
       "  </thead>\n",
       "  <tbody>\n",
       "    <tr>\n",
       "      <th>0</th>\n",
       "      <td>credit_card</td>\n",
       "      <td>34568</td>\n",
       "      <td>72.74</td>\n",
       "    </tr>\n",
       "    <tr>\n",
       "      <th>1</th>\n",
       "      <td>boleto</td>\n",
       "      <td>9508</td>\n",
       "      <td>20.01</td>\n",
       "    </tr>\n",
       "    <tr>\n",
       "      <th>2</th>\n",
       "      <td>voucher</td>\n",
       "      <td>3027</td>\n",
       "      <td>6.37</td>\n",
       "    </tr>\n",
       "    <tr>\n",
       "      <th>3</th>\n",
       "      <td>debit_card</td>\n",
       "      <td>422</td>\n",
       "      <td>0.89</td>\n",
       "    </tr>\n",
       "  </tbody>\n",
       "</table>\n",
       "</div>"
      ],
      "text/plain": [
       "  payment_type  num_transactions  percentage\n",
       "0  credit_card             34568       72.74\n",
       "1       boleto              9508       20.01\n",
       "2      voucher              3027        6.37\n",
       "3   debit_card               422        0.89"
      ]
     },
     "execution_count": 41,
     "metadata": {},
     "output_type": "execute_result"
    }
   ],
   "source": [
    "\n",
    "orders_payments_2017 = orders_2017_df.merge(\n",
    "    order_payments_df[['order_id', 'payment_type']],\n",
    "    on='order_id',\n",
    "    how='left'\n",
    ")\n",
    "\n",
    "\n",
    "transactions_count_2017 = orders_payments_2017['payment_type'].value_counts().reset_index()\n",
    "transactions_count_2017.columns = ['payment_type', 'num_transactions']\n",
    "\n",
    "\n",
    "total_transactions = transactions_count_2017['num_transactions'].sum()\n",
    "transactions_count_2017['percentage'] = (\n",
    "    transactions_count_2017['num_transactions'] / total_transactions * 100\n",
    ").round(2)\n",
    "\n",
    "transactions_count_2017\n"
   ]
  },
  {
   "cell_type": "markdown",
   "id": "c157f432-d243-481b-97d9-186f8ac9a5f4",
   "metadata": {},
   "source": [
    "#### Excluding Voucher as it is a Gift not payment method."
   ]
  },
  {
   "cell_type": "code",
   "execution_count": 71,
   "id": "f45ac2d4-48ac-4a21-b9c1-a79215a3fc22",
   "metadata": {},
   "outputs": [
    {
     "data": {
      "text/html": [
       "<div>\n",
       "<style scoped>\n",
       "    .dataframe tbody tr th:only-of-type {\n",
       "        vertical-align: middle;\n",
       "    }\n",
       "\n",
       "    .dataframe tbody tr th {\n",
       "        vertical-align: top;\n",
       "    }\n",
       "\n",
       "    .dataframe thead th {\n",
       "        text-align: right;\n",
       "    }\n",
       "</style>\n",
       "<table border=\"1\" class=\"dataframe\">\n",
       "  <thead>\n",
       "    <tr style=\"text-align: right;\">\n",
       "      <th></th>\n",
       "      <th>payment_type</th>\n",
       "      <th>num_transactions</th>\n",
       "      <th>percentage</th>\n",
       "    </tr>\n",
       "  </thead>\n",
       "  <tbody>\n",
       "    <tr>\n",
       "      <th>0</th>\n",
       "      <td>credit_card</td>\n",
       "      <td>34568</td>\n",
       "      <td>77.68</td>\n",
       "    </tr>\n",
       "    <tr>\n",
       "      <th>1</th>\n",
       "      <td>boleto</td>\n",
       "      <td>9508</td>\n",
       "      <td>21.37</td>\n",
       "    </tr>\n",
       "    <tr>\n",
       "      <th>2</th>\n",
       "      <td>debit_card</td>\n",
       "      <td>422</td>\n",
       "      <td>0.95</td>\n",
       "    </tr>\n",
       "  </tbody>\n",
       "</table>\n",
       "</div>"
      ],
      "text/plain": [
       "  payment_type  num_transactions  percentage\n",
       "0  credit_card             34568       77.68\n",
       "1       boleto              9508       21.37\n",
       "2   debit_card               422        0.95"
      ]
     },
     "execution_count": 71,
     "metadata": {},
     "output_type": "execute_result"
    }
   ],
   "source": [
    "\n",
    "orders_payments_2017 = orders_2017_df.merge(\n",
    "    order_payments_df[['order_id', 'payment_type']],\n",
    "    on='order_id',\n",
    "    how='left'\n",
    ")\n",
    "\n",
    "\n",
    "orders_payments_2017 = orders_payments_2017[orders_payments_2017['payment_type'] != 'voucher']\n",
    "\n",
    "\n",
    "transactions_count_2017 = orders_payments_2017['payment_type'].value_counts().reset_index()\n",
    "transactions_count_2017.columns = ['payment_type', 'num_transactions']\n",
    "\n",
    "\n",
    "total_transactions = transactions_count_2017['num_transactions'].sum()\n",
    "transactions_count_2017['percentage'] = (\n",
    "    transactions_count_2017['num_transactions'] / total_transactions * 100\n",
    ").round(2)\n",
    "\n",
    "transactions_count_2017\n"
   ]
  },
  {
   "cell_type": "markdown",
   "id": "4d76505e-5896-422f-8fca-c820171ff4db",
   "metadata": {},
   "source": [
    "## 3.5 Satisfaction-based Segmentation"
   ]
  },
  {
   "cell_type": "code",
   "execution_count": 43,
   "id": "0af57fe5-31ab-4154-9a6d-16ea029063a2",
   "metadata": {},
   "outputs": [
    {
     "data": {
      "text/html": [
       "<div>\n",
       "<style scoped>\n",
       "    .dataframe tbody tr th:only-of-type {\n",
       "        vertical-align: middle;\n",
       "    }\n",
       "\n",
       "    .dataframe tbody tr th {\n",
       "        vertical-align: top;\n",
       "    }\n",
       "\n",
       "    .dataframe thead th {\n",
       "        text-align: right;\n",
       "    }\n",
       "</style>\n",
       "<table border=\"1\" class=\"dataframe\">\n",
       "  <thead>\n",
       "    <tr style=\"text-align: right;\">\n",
       "      <th></th>\n",
       "      <th>Segment</th>\n",
       "      <th>Num_Customers</th>\n",
       "      <th>Percentage</th>\n",
       "    </tr>\n",
       "  </thead>\n",
       "  <tbody>\n",
       "    <tr>\n",
       "      <th>0</th>\n",
       "      <td>Happy Customer</td>\n",
       "      <td>24643</td>\n",
       "      <td>56.37</td>\n",
       "    </tr>\n",
       "    <tr>\n",
       "      <th>1</th>\n",
       "      <td>Neutral Customer</td>\n",
       "      <td>12435</td>\n",
       "      <td>28.45</td>\n",
       "    </tr>\n",
       "    <tr>\n",
       "      <th>2</th>\n",
       "      <td>Unhappy Customer</td>\n",
       "      <td>6635</td>\n",
       "      <td>15.18</td>\n",
       "    </tr>\n",
       "  </tbody>\n",
       "</table>\n",
       "</div>"
      ],
      "text/plain": [
       "            Segment  Num_Customers  Percentage\n",
       "0    Happy Customer          24643       56.37\n",
       "1  Neutral Customer          12435       28.45\n",
       "2  Unhappy Customer           6635       15.18"
      ]
     },
     "execution_count": 43,
     "metadata": {},
     "output_type": "execute_result"
    }
   ],
   "source": [
    "orders_2017_df = orders_df[orders_df['order_purchase_timestamp'].dt.year == 2017].copy()\n",
    "\n",
    "df_merged = pd.merge(\n",
    "    customers_df[['customer_unique_id', 'customer_id']],\n",
    "    orders_2017_df[['order_id', 'customer_id']],\n",
    "    on='customer_id',\n",
    "    how='inner'\n",
    ")\n",
    "\n",
    "df_merged = pd.merge(\n",
    "    df_merged,\n",
    "    order_reviews_df[['order_id', 'review_score']],\n",
    "    on='order_id',\n",
    "    how='left'\n",
    ")\n",
    "\n",
    "customer_review_summary = df_merged.groupby('customer_unique_id')['review_score'].mean().reset_index()\n",
    "customer_review_summary.rename(columns={'review_score': 'average_review_score'}, inplace=True)\n",
    "\n",
    "def classify_review_segment(average_score):\n",
    "    if average_score == 5.0:\n",
    "        return 'Happy Customer'\n",
    "    elif average_score >= 3.0:\n",
    "        return 'Neutral Customer'\n",
    "    else:\n",
    "        return 'Unhappy Customer'\n",
    "\n",
    "customer_review_summary['Review_Segment'] = customer_review_summary['average_review_score'].apply(classify_review_segment)\n",
    "\n",
    "review_segment_counts = customer_review_summary['Review_Segment'].value_counts()\n",
    "review_segment_percentage = customer_review_summary['Review_Segment'].value_counts(normalize=True) * 100\n",
    "\n",
    "review_segment_summary = pd.DataFrame({\n",
    "    'Segment': review_segment_counts.index,\n",
    "    'Num_Customers': review_segment_counts.values,\n",
    "    'Percentage': review_segment_percentage.values.round(2)\n",
    "})\n",
    "\n",
    "review_segment_summary = review_segment_summary.sort_values(by='Num_Customers', ascending=False).reset_index(drop=True)\n",
    "\n",
    "review_segment_summary"
   ]
  },
  {
   "cell_type": "markdown",
   "id": "bb9de900-f35d-4d04-bdd4-5c4271d6101d",
   "metadata": {},
   "source": [
    "### What is the \"delay in delivery\" percentage among satisfaction segments?"
   ]
  },
  {
   "cell_type": "code",
   "execution_count": 45,
   "id": "c474bbf7-5108-42f4-a5ef-b633032ef2ce",
   "metadata": {},
   "outputs": [
    {
     "name": "stdout",
     "output_type": "stream",
     "text": [
      "Percentage of late deliveries for each review-based segment (2017):\n",
      "Review_Segment\n",
      "Happy Customer       2.37\n",
      "Neutral Customer     5.23\n",
      "Unhappy Customer    23.37\n",
      "Name: is_late, dtype: float64\n"
     ]
    }
   ],
   "source": [
    "orders_df['order_purchase_timestamp'] = pd.to_datetime(orders_df['order_purchase_timestamp'])\n",
    "\n",
    "orders_2017_df = orders_df[orders_df['order_purchase_timestamp'].dt.year == 2017].copy()\n",
    "\n",
    "df_merged = pd.merge(\n",
    "    customers_df[['customer_unique_id', 'customer_id']],\n",
    "    orders_2017_df[['order_id', 'customer_id', 'order_delivered_customer_date', 'order_estimated_delivery_date']],\n",
    "    on='customer_id',\n",
    "    how='inner'\n",
    ")\n",
    "\n",
    "df_merged = pd.merge(\n",
    "    df_merged,\n",
    "    order_reviews_df[['order_id', 'review_score']],\n",
    "    on='order_id',\n",
    "    how='left'\n",
    ")\n",
    "\n",
    "customer_review_summary = df_merged.groupby('customer_unique_id')['review_score'].mean().reset_index()\n",
    "customer_review_summary.rename(columns={'review_score': 'average_review_score'}, inplace=True)\n",
    "\n",
    "def classify_review_segment(average_score):\n",
    "    if average_score == 5.0:\n",
    "        return 'Happy Customer'\n",
    "    elif average_score >= 3.0:\n",
    "        return 'Neutral Customer'\n",
    "    else:\n",
    "        return 'Unhappy Customer'\n",
    "\n",
    "customer_review_summary['Review_Segment'] = customer_review_summary['average_review_score'].apply(classify_review_segment)\n",
    "\n",
    "df_analysis_2017 = pd.merge(\n",
    "    orders_2017_df[['order_id', 'customer_id', 'order_delivered_customer_date', 'order_estimated_delivery_date']],\n",
    "    order_reviews_df[['order_id', 'review_score']],\n",
    "    on='order_id',\n",
    "    how='left'\n",
    ")\n",
    "\n",
    "df_analysis_2017 = pd.merge(\n",
    "    df_analysis_2017,\n",
    "    customers_df[['customer_unique_id', 'customer_id']],\n",
    "    on='customer_id',\n",
    "    how='left'\n",
    ")\n",
    "\n",
    "df_analysis_2017 = pd.merge(\n",
    "    df_analysis_2017,\n",
    "    customer_review_summary[['customer_unique_id', 'Review_Segment']],\n",
    "    on='customer_unique_id',\n",
    "    how='left'\n",
    ")\n",
    "\n",
    "df_analysis_2017['order_delivered_customer_date'] = pd.to_datetime(df_analysis_2017['order_delivered_customer_date'])\n",
    "df_analysis_2017['order_estimated_delivery_date'] = pd.to_datetime(df_analysis_2017['order_estimated_delivery_date'])\n",
    "\n",
    "df_analysis_2017['is_late'] = df_analysis_2017['order_delivered_customer_date'] > df_analysis_2017['order_estimated_delivery_date']\n",
    "\n",
    "late_delivery_percentage_2017 = df_analysis_2017.groupby('Review_Segment')['is_late'].mean() * 100\n",
    "\n",
    "print(\"Percentage of late deliveries for each review-based segment (2017):\")\n",
    "print(late_delivery_percentage_2017.round(2))"
   ]
  },
  {
   "cell_type": "markdown",
   "id": "9cfc3087-4feb-40b8-b58f-40924fd1d9d0",
   "metadata": {},
   "source": [
    "### What are the most common reasons written by unhappy customers in the reviews?"
   ]
  },
  {
   "cell_type": "code",
   "execution_count": 50,
   "id": "5bd2cf53-dd95-41f5-b5dd-fa85a9b1a77c",
   "metadata": {},
   "outputs": [
    {
     "name": "stdout",
     "output_type": "stream",
     "text": [
      "Number of unhappy customers: 6266\n",
      "Number of reviews with comments from unhappy customers: 4731\n",
      "\n",
      "================================================================================\n",
      "COMPLAINT CATEGORIES ANALYSIS\n",
      "================================================================================\n",
      "Delivery Issues: 845 complaints (47.2%)\n",
      "Product Quality: 358 complaints (20.0%)\n",
      "Missing Parts: 212 complaints (11.8%)\n",
      "Wrong Item: 205 complaints (11.4%)\n",
      "Description Mismatch: 80 complaints (4.5%)\n",
      "Customer Service: 46 complaints (2.6%)\n",
      "Pricing Issues: 46 complaints (2.6%)\n"
     ]
    }
   ],
   "source": [
    "from nltk.corpus import stopwords\n",
    "import re\n",
    "from collections import Counter\n",
    "\n",
    "\n",
    "orders_df['order_purchase_timestamp'] = pd.to_datetime(orders_df['order_purchase_timestamp'])\n",
    "orders_2017 = orders_df[orders_df['order_purchase_timestamp'].dt.year == 2017].copy()\n",
    "\n",
    "\n",
    "df_merged = pd.merge(customers_df[['customer_unique_id', 'customer_id']],\n",
    "                     orders_2017[['order_id', 'customer_id']],\n",
    "                     on='customer_id', how='inner')\n",
    "df_merged = pd.merge(df_merged,\n",
    "                     order_reviews_df[['order_id', 'review_score', 'review_comment_message', 'review_comment_title']],\n",
    "                     on='order_id', how='left')\n",
    "\n",
    "\n",
    "customer_review_avg = df_merged.groupby('customer_unique_id')['review_score'].mean().reset_index()\n",
    "unhappy_customers = customer_review_avg[customer_review_avg['review_score'] < 3]['customer_unique_id']\n",
    "\n",
    "\n",
    "unhappy_reviews = df_merged[df_merged['customer_unique_id'].isin(unhappy_customers)]\n",
    "unhappy_reviews = unhappy_reviews[unhappy_reviews['review_comment_message'].notna()]\n",
    "\n",
    "print(f\"Number of unhappy customers: {len(unhappy_customers)}\")\n",
    "print(f\"Number of reviews with comments from unhappy customers: {len(unhappy_reviews)}\")\n",
    "\n",
    "\n",
    "portuguese_stopwords = set(stopwords.words('portuguese'))\n",
    "\n",
    "\n",
    "def extract_keywords(text):\n",
    "    text = str(text).lower()\n",
    "    text = re.sub(r'[^\\w\\s]', '', text)  # remove punctuation\n",
    "    text = re.sub(r'\\d+', '', text)      # remove numbers\n",
    "    words = text.split()\n",
    "    keywords = [w for w in words if w not in portuguese_stopwords and len(w) > 2]\n",
    "    return keywords\n",
    "\n",
    "\n",
    "complaint_patterns = {\n",
    "    'Delivery Issues': [\n",
    "        r'atraso', r'demora', r'entrega', r'chegou atrasado', r'demorou na entrega', r'tempo de entrega'\n",
    "    ],\n",
    "    'Product Quality': [\n",
    "        r'quebrado', r'danificado', r'defeito', r'qualidade', r'produto ruim', r'produto defeituoso'\n",
    "    ],\n",
    "    'Wrong Item': [\n",
    "        r'errado', r'diferente', r'cor errada', r'tamanho errado', r'modelo errado'\n",
    "    ],\n",
    "    'Missing Parts': [\n",
    "        r'falta', r'peça', r'acessório', r'incompleto', r'faltando'\n",
    "    ],\n",
    "    'Customer Service': [\n",
    "        r'atendimento', r'suporte', r'resposta lenta', r'não respondeu'\n",
    "    ],\n",
    "    'Pricing Issues': [\n",
    "        r'caro', r'preço', r'custo', r'caríssimo'\n",
    "    ],\n",
    "    'Description Mismatch': [\n",
    "        r'descrição', r'foto', r'imagem', r'informação errada'\n",
    "    ]\n",
    "}\n",
    "\n",
    "\n",
    "def categorize_review(text):\n",
    "    text = text.lower()\n",
    "    for category, patterns in complaint_patterns.items():\n",
    "        for pattern in patterns:\n",
    "            if re.search(pattern, text):\n",
    "                return category\n",
    "    return None  # unmatched reviews will be ignored\n",
    "\n",
    "\n",
    "category_counter = Counter()\n",
    "for review in unhappy_reviews['review_comment_message']:\n",
    "    category = categorize_review(review)\n",
    "    if category:\n",
    "        category_counter[category] += 1\n",
    "\n",
    "# Print results\n",
    "total_count = sum(category_counter.values())\n",
    "print(\"\\n\" + \"=\"*80)\n",
    "print(\"COMPLAINT CATEGORIES ANALYSIS\")\n",
    "print(\"=\"*80)\n",
    "for category, count in category_counter.most_common():\n",
    "    percentage = (count / total_count) * 100\n",
    "    print(f\"{category}: {count} complaints ({percentage:.1f}%)\")"
   ]
  },
  {
   "cell_type": "markdown",
   "id": "b74feeaa-5867-4f52-89bd-508fdd8f3a75",
   "metadata": {},
   "source": [
    "### 3.4 RFM Segmentation"
   ]
  },
  {
   "cell_type": "markdown",
   "id": "5c60bc59-2620-4a8e-93db-198cfa94a84f",
   "metadata": {},
   "source": [
    "##### In our 2017 customer data analysis, 97% of customers made only one purchase. In such low-frequency environments, monetary value is essentially the same as frequency, adds no additional insight, and may introduce noise and outliers that reduce segmentation accuracy. Therefore, we relied only on Frequency and Recency"
   ]
  },
  {
   "cell_type": "markdown",
   "id": "a125cb8e-2735-4ed1-8ada-64d27c9f3870",
   "metadata": {},
   "source": [
    "##### We will not use (pd.cut) and preferred the conditional (if) method because most customers made only one purchase, so Frequency add no meaningful variation, and the conditional approach provides a clear and interpretable classification based on Recency."
   ]
  },
  {
   "cell_type": "markdown",
   "id": "f408adc9-525d-4472-ae76-1b80b071f7d8",
   "metadata": {},
   "source": [
    "##### Loyal: recent purchase (≤ 90 days) with multiple orders (≥ 2).\n",
    "##### At Risk: last purchase within half a year (≤ 180 days) but with lower activity.\n",
    "##### Churned: no purchases for a long time (more than 180 days)."
   ]
  },
  {
   "cell_type": "code",
   "execution_count": 51,
   "id": "d89c3824-c25a-4ea0-93ea-8f40d0aed9ab",
   "metadata": {},
   "outputs": [
    {
     "name": "stdout",
     "output_type": "stream",
     "text": [
      "Customer Segment Distribution:\n",
      "\n",
      "   Segment  Num_Customers  Percentage\n",
      "0  At Risk          28971       66.28\n",
      "1  Churned          14192       32.47\n",
      "2    Loyal            550        1.26\n"
     ]
    }
   ],
   "source": [
    "import pandas as pd\n",
    "\n",
    "\n",
    "orders_df = pd.read_csv('olist_orders_dataset.csv')\n",
    "customers_df = pd.read_csv('olist_customers_dataset.csv')\n",
    "\n",
    "\n",
    "orders_df = pd.merge(\n",
    "    orders_df, \n",
    "    customers_df[['customer_id', 'customer_unique_id']], \n",
    "    on='customer_id', \n",
    "    how='left'\n",
    ")\n",
    "\n",
    "\n",
    "orders_df['order_purchase_timestamp'] = pd.to_datetime(orders_df['order_purchase_timestamp'])\n",
    "orders_2017 = orders_df[orders_df['order_purchase_timestamp'].dt.year == 2017]\n",
    "\n",
    "\n",
    "rfm = orders_2017.groupby('customer_unique_id').agg({\n",
    "    'order_purchase_timestamp': lambda x: (pd.Timestamp('2017-12-31') - x.max()).days,\n",
    "    'order_id': 'count'\n",
    "}).reset_index()\n",
    "rfm.columns = ['customer_unique_id', 'Recency', 'Frequency']\n",
    "\n",
    "\n",
    "def rfm_simple_segment(row):\n",
    "    if row['Recency'] <= 90 and row['Frequency'] >= 2:  # recent and frequent\n",
    "        return 'Loyal'\n",
    "    elif row['Recency'] <= 180 and row['Frequency'] >= 1:  # somewhat recent\n",
    "        return 'At Risk'\n",
    "    else:\n",
    "        return 'Churned'\n",
    "\n",
    "rfm['Segment'] = rfm.apply(rfm_simple_segment, axis=1)\n",
    "\n",
    "\n",
    "segment_summary = rfm['Segment'].value_counts().reset_index()\n",
    "segment_summary.columns = ['Segment','Num_Customers']\n",
    "segment_summary['Percentage'] = (segment_summary['Num_Customers'] / segment_summary['Num_Customers'].sum() * 100).round(2)\n",
    "\n",
    "print(\"Customer Segment Distribution:\\n\")\n",
    "print(segment_summary)\n"
   ]
  },
  {
   "cell_type": "markdown",
   "id": "7dbe3ba1-7dac-486d-8b2d-c73ce4f17567",
   "metadata": {},
   "source": [
    "### What is the level of satisfaction for each RFM segment?"
   ]
  },
  {
   "cell_type": "code",
   "execution_count": 64,
   "id": "4dc30dc3-ac22-4c31-9521-35dbcc30a42f",
   "metadata": {},
   "outputs": [
    {
     "name": "stdout",
     "output_type": "stream",
     "text": [
      "   Segment  Average_Review\n",
      "0  At Risk        4.081761\n",
      "1  Churned        4.092516\n",
      "2    Loyal        4.155200\n"
     ]
    }
   ],
   "source": [
    "import pandas as pd\n",
    "\n",
    "\n",
    "orders_df = pd.read_csv('olist_orders_dataset.csv')\n",
    "customers_df = pd.read_csv('olist_customers_dataset.csv')\n",
    "reviews_df = pd.read_csv('olist_order_reviews_dataset.csv')\n",
    "\n",
    "\n",
    "orders_df = pd.merge(\n",
    "    orders_df,\n",
    "    customers_df[['customer_id', 'customer_unique_id']],\n",
    "    on='customer_id',\n",
    "    how='left'\n",
    ")\n",
    "\n",
    "\n",
    "orders_df['order_purchase_timestamp'] = pd.to_datetime(orders_df['order_purchase_timestamp'])\n",
    "orders_2017 = orders_df[orders_df['order_purchase_timestamp'].dt.year == 2017]\n",
    "\n",
    "\n",
    "rfm = orders_2017.groupby('customer_unique_id').agg({\n",
    "    'order_purchase_timestamp': lambda x: (pd.Timestamp('2017-12-31') - x.max()).days,\n",
    "    'order_id': 'count'\n",
    "}).reset_index()\n",
    "rfm.columns = ['customer_unique_id', 'Recency', 'Frequency']\n",
    "\n",
    "def rfm_simple_segment(row):\n",
    "    if row['Recency'] <= 90 and row['Frequency'] >= 2:\n",
    "        return 'Loyal'\n",
    "    elif row['Recency'] <= 180 and row['Frequency'] >= 1:\n",
    "        return 'At Risk'\n",
    "    else:\n",
    "        return 'Churned'\n",
    "\n",
    "rfm['Segment'] = rfm.apply(rfm_simple_segment, axis=1)\n",
    "\n",
    "segment_reviews = pd.merge(\n",
    "    rfm[['customer_unique_id', 'Segment']],\n",
    "    reviews_df[['order_id', 'review_score']],\n",
    "    left_on='customer_unique_id',\n",
    "    right_on=orders_2017.set_index('order_id')['customer_unique_id'].reindex(reviews_df['order_id']).values,\n",
    "    how='left'\n",
    ")\n",
    "\n",
    "average_reviews = segment_reviews.groupby('Segment')['review_score'].mean().reset_index()\n",
    "average_reviews.columns = ['Segment', 'Average_Review']\n",
    "\n",
    "print(average_reviews)"
   ]
  },
  {
   "cell_type": "markdown",
   "id": "7b690555-2bcf-4a6e-9296-98acd34ddfb2",
   "metadata": {},
   "source": [
    "### 3.5 CLV (Customer Life Time Value)"
   ]
  },
  {
   "cell_type": "code",
   "execution_count": 84,
   "id": "64f97291-f9ee-4cb7-8f45-02ed81215264",
   "metadata": {},
   "outputs": [
    {
     "name": "stdout",
     "output_type": "stream",
     "text": [
      "Average LTV: R$ 58.05\n",
      "Median LTV: R$ 37.18\n",
      "Total Revenue 2017: R$ 7,249,746.73\n",
      "Unique Customers: 43713\n",
      "Avg Orders/Customer: 1.03\n",
      "Top 10% LTV: R$ 111.73\n",
      "Avg Lifetime (days): 2.3\n"
     ]
    }
   ],
   "source": [
    "\n",
    "orders = orders.merge(customers[['customer_id','customer_unique_id']], on='customer_id')\n",
    "orders['order_purchase_timestamp'] = pd.to_datetime(orders['order_purchase_timestamp'])\n",
    "orders_2017 = orders[orders['order_purchase_timestamp'].dt.year == 2017]\n",
    "\n",
    "order_payments_2017 = payments.merge(\n",
    "    orders_2017[['order_id','customer_unique_id','order_purchase_timestamp']],\n",
    "    on='order_id'\n",
    ")\n",
    "\n",
    "revenue = order_payments_2017.groupby('customer_unique_id')['payment_value'].sum()\n",
    "cust_orders = orders_2017.groupby('customer_unique_id').agg(\n",
    "    total_orders=('order_id','count'),\n",
    "    first_order=('order_purchase_timestamp','min'),\n",
    "    last_order=('order_purchase_timestamp','max')\n",
    ")\n",
    "cust_orders['lifetime_days'] = (cust_orders['last_order']-cust_orders['first_order']).dt.days+1\n",
    "cust_orders['avg_order_value'] = revenue / cust_orders['total_orders']\n",
    "cust_orders['purchase_freq'] = cust_orders['total_orders']/(cust_orders['lifetime_days']/365)\n",
    "cust_orders['ltv'] = cust_orders['avg_order_value']*cust_orders['purchase_freq']*(cust_orders['lifetime_days']/365)*0.35\n",
    "cust_orders = cust_orders.replace([np.inf,-np.inf],np.nan).dropna(subset=['ltv'])\n",
    "\n",
    "print(f\"Average LTV: R$ {cust_orders['ltv'].mean():.2f}\")\n",
    "print(f\"Median LTV: R$ {cust_orders['ltv'].median():.2f}\")\n",
    "print(f\"Total Revenue 2017: R$ {revenue.sum():,.2f}\")\n",
    "print(f\"Unique Customers: {len(cust_orders)}\")\n",
    "print(f\"Avg Orders/Customer: {cust_orders['total_orders'].mean():.2f}\")\n",
    "print(f\"Top 10% LTV: R$ {cust_orders['ltv'].quantile(0.90):.2f}\")\n",
    "print(f\"Avg Lifetime (days): {cust_orders['lifetime_days'].mean():.1f}\")\n"
   ]
  },
  {
   "cell_type": "markdown",
   "id": "f382901d-c222-418b-95f2-339476f1d29a",
   "metadata": {},
   "source": [
    "## Key Insights"
   ]
  },
  {
   "cell_type": "markdown",
   "id": "0697ec1f-fecb-4951-a953-41a1a01105a4",
   "metadata": {},
   "source": [
    "#### Customer Base & Purchasing Patterns\n",
    "- 97% of customers made only **one purchase in 2017** (avg. orders per customer = 1.03).  \n",
    "- Sales heavily concentrated in the **Southeast region (67.3%)**, especially São Paulo.  \n",
    "- **Seasonal shopping** (Black Friday, Mother’s Day) accounted for 15% of purchases; 23% occurred exclusively on weekends.\n",
    "\n",
    "#### Product Preferences\n",
    "- **Home & Furniture** dominated (30%), followed by **Sports & Leisure** (19.7%) and **Electronics & Technology** (14.6%).  \n",
    "- 94.5% of customers bought from **only one category**, and 90% placed **single-item orders**.\n",
    "\n",
    "#### Payment Behavior\n",
    "- **Credit cards** were used in 77.7% of transactions.  \n",
    "- **Boleto (bank slips)** accounted for 21.4%.  \n",
    "\n",
    "#### Customer Satisfaction\n",
    "- 56% of customers rated their experience as **“Happy” (5 stars)**.  \n",
    "- Delivery issues caused 47% of complaints, the main driver of dissatisfaction.\n",
    "\n",
    "#### Customer Health & Retention (RFM Analysis)\n",
    "- **At Risk**: 66.3%  \n",
    "- **Churned**: 32.5%  \n",
    "- **Loyal**: 1.3%  \n",
    "- Satisfaction scores were similar across segments, suggesting  loyalty is influenced by factors beyond satisfaction .\n",
    "\n",
    "#### Customer Lifetime Value (CLV)\n",
    "- Median CLV = R$ 37.18\n",
    "  \n",
    "- Top 10% of customers achieved R$ 111.73, highlighting the high value of top segments.\n"
   ]
  },
  {
   "cell_type": "markdown",
   "id": "1ce46c83-cdd4-4ba5-8949-e3ae84536f71",
   "metadata": {},
   "source": [
    "## Recommendations\n",
    "- **Improve Customer Retention:** Target \"At Risk\" customers with personalized promotions.  \n",
    "- **Optimize Delivery:** Focus on reducing delays, as delivery issues are the main cause of dissatisfaction.  \n",
    "- **Geographic Expansion:** Explore marketing opportunities outside the Southeast region to diversify the customer base.  \n",
    "- **Encourage Multi-category Purchases:** Incentivize customers to explore more product categories to increase average order value.\n",
    "---\n",
    "\n",
    "## Tools & Technologies\n",
    "- Python\n",
    "- Tableau\n",
    "- Excel\n"
   ]
  },
  {
   "cell_type": "markdown",
   "id": "a34dc0db-b43b-4347-9668-81e3ffe51a54",
   "metadata": {},
   "source": [
    "## References "
   ]
  },
  {
   "cell_type": "markdown",
   "id": "396d661b-187a-4bfb-8740-1f708234c62a",
   "metadata": {},
   "source": [
    "Brazil Help. (n.d.). Brazilian states: Codes and regions. Retrieved September 19, 2025, from https://brazil-help.com/brazilian_states.htm"
   ]
  },
  {
   "cell_type": "markdown",
   "id": "688817d2-df22-4428-a5f1-1b9acb7a4f8c",
   "metadata": {},
   "source": [
    "  \n",
    "## Contributors\n",
    "- Mona Mohamed\n",
    "- Rabab Ali\n",
    "- Ali Jafar\n",
    "- Hasan Ali"
   ]
  }
 ],
 "metadata": {
  "kernelspec": {
   "display_name": "Python [conda env:base] *",
   "language": "python",
   "name": "conda-base-py"
  },
  "language_info": {
   "codemirror_mode": {
    "name": "ipython",
    "version": 3
   },
   "file_extension": ".py",
   "mimetype": "text/x-python",
   "name": "python",
   "nbconvert_exporter": "python",
   "pygments_lexer": "ipython3",
   "version": "3.13.5"
  }
 },
 "nbformat": 4,
 "nbformat_minor": 5
}
